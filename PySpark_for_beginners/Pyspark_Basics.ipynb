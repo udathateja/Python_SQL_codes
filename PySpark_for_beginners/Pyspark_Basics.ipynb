{
  "nbformat": 4,
  "nbformat_minor": 0,
  "metadata": {
    "colab": {
      "name": "Pyspark_Basics.ipynb",
      "provenance": [],
      "collapsed_sections": []
    },
    "kernelspec": {
      "name": "python3",
      "display_name": "Python 3"
    },
    "language_info": {
      "name": "python"
    }
  },
  "cells": [
    {
      "cell_type": "markdown",
      "source": [
        "## Content:\n",
        "\n",
        "This notebook contains\n",
        "- how to install PySpark for Google colab\n",
        "- basic operation using PySpark dataframe\n",
        "- selecting rows and columns\n",
        "- missing value handling\n",
        "- group by, aggregation functions"
      ],
      "metadata": {
        "id": "RjSHfpY8g9Ak"
      }
    },
    {
      "cell_type": "markdown",
      "source": [
        "## Setting up PySpark"
      ],
      "metadata": {
        "id": "cG1BmXz5yC4q"
      }
    },
    {
      "cell_type": "code",
      "execution_count": 1,
      "metadata": {
        "id": "0TWMrhiCxS0c"
      },
      "outputs": [],
      "source": [
        "# Downloading Java\n",
        "!apt-get install openjdk-8-jdk-headless -qq > /dev/null"
      ]
    },
    {
      "cell_type": "code",
      "source": [
        "# Downloading Apache Spark with Hadoop\n",
        "# install spark (change the version number if needed)\n",
        "!wget -q https://archive.apache.org/dist/spark/spark-3.0.0/spark-3.0.0-bin-hadoop3.2.tgz\n",
        "\n",
        "# unzip the spark file to the current folder\n",
        "!tar xf spark-3.0.0-bin-hadoop3.2.tgz\n",
        "\n",
        "# set your spark folder to your system path environment. \n",
        "import os\n",
        "os.environ[\"JAVA_HOME\"] = \"/usr/lib/jvm/java-8-openjdk-amd64\"\n",
        "os.environ[\"SPARK_HOME\"] = \"/content/spark-3.0.0-bin-hadoop3.2\"\n",
        "\n",
        "\n",
        "# install findspark using pip\n",
        "!pip install -q findspark"
      ],
      "metadata": {
        "id": "IJwyrR0RyN80"
      },
      "execution_count": 2,
      "outputs": []
    },
    {
      "cell_type": "code",
      "source": [
        "import findspark\n",
        "findspark.init()"
      ],
      "metadata": {
        "id": "OORvnUBGywdU"
      },
      "execution_count": 3,
      "outputs": []
    },
    {
      "cell_type": "code",
      "source": [
        "# creating spark session \n",
        "from pyspark.sql import SparkSession\n",
        "spark = SparkSession.builder\\\n",
        "        .master(\"local\")\\\n",
        "        .appName(\"Colab\")\\\n",
        "        .config('spark.ui.port', '4050')\\\n",
        "        .getOrCreate()"
      ],
      "metadata": {
        "id": "8p4vkxqVz71F"
      },
      "execution_count": 4,
      "outputs": []
    },
    {
      "cell_type": "code",
      "source": [
        "spark"
      ],
      "metadata": {
        "colab": {
          "base_uri": "https://localhost:8080/",
          "height": 219
        },
        "id": "7ZajP4P20CwJ",
        "outputId": "f88470b3-c268-4fa6-e968-7832f1a6d0b2"
      },
      "execution_count": 5,
      "outputs": [
        {
          "output_type": "execute_result",
          "data": {
            "text/plain": [
              "<pyspark.sql.session.SparkSession at 0x7fb479aa1190>"
            ],
            "text/html": [
              "\n",
              "            <div>\n",
              "                <p><b>SparkSession - in-memory</b></p>\n",
              "                \n",
              "        <div>\n",
              "            <p><b>SparkContext</b></p>\n",
              "\n",
              "            <p><a href=\"http://bc6faed21fa7:4050\">Spark UI</a></p>\n",
              "\n",
              "            <dl>\n",
              "              <dt>Version</dt>\n",
              "                <dd><code>v3.0.0</code></dd>\n",
              "              <dt>Master</dt>\n",
              "                <dd><code>local</code></dd>\n",
              "              <dt>AppName</dt>\n",
              "                <dd><code>Colab</code></dd>\n",
              "            </dl>\n",
              "        </div>\n",
              "        \n",
              "            </div>\n",
              "        "
            ]
          },
          "metadata": {},
          "execution_count": 5
        }
      ]
    },
    {
      "cell_type": "markdown",
      "source": [
        "## PySpark Dataframe"
      ],
      "metadata": {
        "id": "L_g49WWeCFGs"
      }
    },
    {
      "cell_type": "code",
      "source": [
        "df_ps = spark.read.csv(\"/content/drive/MyDrive/Colab Notebooks/life_exp_data.csv\")"
      ],
      "metadata": {
        "id": "NZCt-Ul_0-yw"
      },
      "execution_count": 6,
      "outputs": []
    },
    {
      "cell_type": "code",
      "source": [
        "df_ps.show()"
      ],
      "metadata": {
        "colab": {
          "base_uri": "https://localhost:8080/"
        },
        "id": "ndG35NXQ1Gw3",
        "outputId": "3e60ed5f-fc43-4b80-f451-0cddf44013f3"
      },
      "execution_count": 7,
      "outputs": [
        {
          "output_type": "stream",
          "name": "stdout",
          "text": [
            "+-----------+----+----------+----------------+---------------+-------------+-------+--------------------+-----------+--------+-----+------------------+-----+-----------------+-----------+---------+-----------+----------+--------------------+-------------------+--------------------+---------+\n",
            "|        _c0| _c1|       _c2|             _c3|            _c4|          _c5|    _c6|                 _c7|        _c8|     _c9| _c10|              _c11| _c12|             _c13|       _c14|     _c15|       _c16|      _c17|                _c18|               _c19|                _c20|     _c21|\n",
            "+-----------+----+----------+----------------+---------------+-------------+-------+--------------------+-----------+--------+-----+------------------+-----+-----------------+-----------+---------+-----------+----------+--------------------+-------------------+--------------------+---------+\n",
            "|    Country|Year|    Status|Life expectancy |Adult Mortality|infant deaths|Alcohol|percentage expend...|Hepatitis B|Measles | BMI |under-five deaths |Polio|Total expenditure|Diphtheria | HIV/AIDS|        GDP|Population| thinness  1-19 y...| thinness 5-9 years|Income compositio...|Schooling|\n",
            "|Afghanistan|2015|Developing|              65|            263|           62|   0.01|         71.27962362|         65|    1154| 19.1|                83|    6|             8.16|         65|      0.1|  584.25921|  33736494|                17.2|               17.3|               0.479|     10.1|\n",
            "|Afghanistan|2014|Developing|            59.9|            271|           64|   0.01|         73.52358168|         62|     492| 18.6|                86|   58|             8.18|         62|      0.1| 612.696514|    327582|                17.5|               17.5|               0.476|       10|\n",
            "|Afghanistan|2013|Developing|            59.9|            268|           66|   0.01|         73.21924272|         64|     430| 18.1|                89|   62|             8.13|         64|      0.1| 631.744976|  31731688|                17.7|               17.7|                0.47|      9.9|\n",
            "|Afghanistan|2012|Developing|            59.5|            272|           69|   0.01|          78.1842153|         67|    2787| 17.6|                93|   67|             8.52|         67|      0.1|    669.959|   3696958|                17.9|                 18|               0.463|      9.8|\n",
            "|Afghanistan|2011|Developing|            59.2|            275|           71|   0.01|         7.097108703|         68|    3013| 17.2|                97|   68|             7.87|         68|      0.1|  63.537231|   2978599|                18.2|               18.2|               0.454|      9.5|\n",
            "|Afghanistan|2010|Developing|            58.8|            279|           74|   0.01|         79.67936736|         66|    1989| 16.7|               102|   66|              9.2|         66|      0.1|  553.32894|   2883167|                18.4|               18.4|               0.448|      9.2|\n",
            "|Afghanistan|2009|Developing|            58.6|            281|           77|   0.01|         56.76221682|         63|    2861| 16.2|               106|   63|             9.42|         63|      0.1|445.8932979|    284331|                18.6|               18.7|               0.434|      8.9|\n",
            "|Afghanistan|2008|Developing|            58.1|            287|           80|   0.03|         25.87392536|         64|    1599| 15.7|               110|   64|             8.33|         64|      0.1|373.3611163|   2729431|                18.8|               18.9|               0.433|      8.7|\n",
            "|Afghanistan|2007|Developing|            57.5|            295|           82|   0.02|         10.91015598|         63|    1141| 15.2|               113|   63|             6.73|         63|      0.1| 369.835796|  26616792|                  19|               19.1|               0.415|      8.4|\n",
            "|Afghanistan|2006|Developing|            57.3|            295|           84|   0.03|         17.17151751|         64|    1990| 14.7|               116|   58|             7.43|         58|      0.1|  272.56377|   2589345|                19.2|               19.3|               0.405|      8.1|\n",
            "|Afghanistan|2005|Developing|            57.3|            291|           85|   0.02|         1.388647732|         66|    1296| 14.2|               118|   58|              8.7|         58|      0.1| 25.2941299|    257798|                19.3|               19.5|               0.396|      7.9|\n",
            "|Afghanistan|2004|Developing|              57|            293|           87|   0.02|         15.29606643|         67|     466| 13.8|               120|    5|             8.79|          5|      0.1|219.1413528|  24118979|                19.5|               19.7|               0.381|      6.8|\n",
            "|Afghanistan|2003|Developing|            56.7|            295|           87|   0.01|         11.08905273|         65|     798| 13.4|               122|   41|             8.82|         41|      0.1|198.7285436|   2364851|                19.7|               19.9|               0.373|      6.5|\n",
            "|Afghanistan|2002|Developing|            56.2|              3|           88|   0.01|         16.88735091|         64|    2486|   13|               122|   36|             7.76|         36|      0.1|  187.84595|  21979923|                19.9|                2.2|               0.341|      6.2|\n",
            "|Afghanistan|2001|Developing|            55.3|            316|           88|   0.01|          10.5747282|         63|    8762| 12.6|               122|   35|              7.8|         33|      0.1|  117.49698|   2966463|                 2.1|                2.4|                0.34|      5.9|\n",
            "|Afghanistan|2000|Developing|            54.8|            321|           88|   0.01|            10.42496|         62|    6532| 12.2|               122|   24|              8.2|         24|      0.1|     114.56|    293756|                 2.3|                2.5|               0.338|      5.5|\n",
            "|    Albania|2015|Developing|            77.8|             74|            0|    4.6|         364.9752287|         99|       0|   58|                 0|   99|                6|         99|      0.1| 3954.22783|     28873|                 1.2|                1.3|               0.762|     14.2|\n",
            "|    Albania|2014|Developing|            77.5|              8|            0|   4.51|         428.7490668|         98|       0| 57.2|                 1|   98|             5.88|         98|      0.1|4575.763787|    288914|                 1.2|                1.3|               0.761|     14.2|\n",
            "|    Albania|2013|Developing|            77.2|             84|            0|   4.76|         430.8769785|         99|       0| 56.5|                 1|   99|             5.66|         99|      0.1| 4414.72314|    289592|                 1.3|                1.4|               0.759|     14.2|\n",
            "+-----------+----+----------+----------------+---------------+-------------+-------+--------------------+-----------+--------+-----+------------------+-----+-----------------+-----------+---------+-----------+----------+--------------------+-------------------+--------------------+---------+\n",
            "only showing top 20 rows\n",
            "\n"
          ]
        }
      ]
    },
    {
      "cell_type": "code",
      "source": [
        "df_ps1 = spark.read.option('header', 'true').csv('/content/drive/MyDrive/Colab Notebooks/life_exp_data.csv')\n",
        "df_ps1.show()"
      ],
      "metadata": {
        "colab": {
          "base_uri": "https://localhost:8080/"
        },
        "id": "XSS6CIEk1Mdf",
        "outputId": "2d8941ad-d2f7-436e-b1fd-cd87d7f083ef"
      },
      "execution_count": 8,
      "outputs": [
        {
          "output_type": "stream",
          "name": "stdout",
          "text": [
            "+-----------+----+----------+----------------+---------------+-------------+-------+----------------------+-----------+--------+-----+------------------+-----+-----------------+-----------+---------+-----------+----------+---------------------+-------------------+-------------------------------+---------+\n",
            "|    Country|Year|    Status|Life expectancy |Adult Mortality|infant deaths|Alcohol|percentage expenditure|Hepatitis B|Measles | BMI |under-five deaths |Polio|Total expenditure|Diphtheria | HIV/AIDS|        GDP|Population| thinness  1-19 years| thinness 5-9 years|Income composition of resources|Schooling|\n",
            "+-----------+----+----------+----------------+---------------+-------------+-------+----------------------+-----------+--------+-----+------------------+-----+-----------------+-----------+---------+-----------+----------+---------------------+-------------------+-------------------------------+---------+\n",
            "|Afghanistan|2015|Developing|              65|            263|           62|   0.01|           71.27962362|         65|    1154| 19.1|                83|    6|             8.16|         65|      0.1|  584.25921|  33736494|                 17.2|               17.3|                          0.479|     10.1|\n",
            "|Afghanistan|2014|Developing|            59.9|            271|           64|   0.01|           73.52358168|         62|     492| 18.6|                86|   58|             8.18|         62|      0.1| 612.696514|    327582|                 17.5|               17.5|                          0.476|       10|\n",
            "|Afghanistan|2013|Developing|            59.9|            268|           66|   0.01|           73.21924272|         64|     430| 18.1|                89|   62|             8.13|         64|      0.1| 631.744976|  31731688|                 17.7|               17.7|                           0.47|      9.9|\n",
            "|Afghanistan|2012|Developing|            59.5|            272|           69|   0.01|            78.1842153|         67|    2787| 17.6|                93|   67|             8.52|         67|      0.1|    669.959|   3696958|                 17.9|                 18|                          0.463|      9.8|\n",
            "|Afghanistan|2011|Developing|            59.2|            275|           71|   0.01|           7.097108703|         68|    3013| 17.2|                97|   68|             7.87|         68|      0.1|  63.537231|   2978599|                 18.2|               18.2|                          0.454|      9.5|\n",
            "|Afghanistan|2010|Developing|            58.8|            279|           74|   0.01|           79.67936736|         66|    1989| 16.7|               102|   66|              9.2|         66|      0.1|  553.32894|   2883167|                 18.4|               18.4|                          0.448|      9.2|\n",
            "|Afghanistan|2009|Developing|            58.6|            281|           77|   0.01|           56.76221682|         63|    2861| 16.2|               106|   63|             9.42|         63|      0.1|445.8932979|    284331|                 18.6|               18.7|                          0.434|      8.9|\n",
            "|Afghanistan|2008|Developing|            58.1|            287|           80|   0.03|           25.87392536|         64|    1599| 15.7|               110|   64|             8.33|         64|      0.1|373.3611163|   2729431|                 18.8|               18.9|                          0.433|      8.7|\n",
            "|Afghanistan|2007|Developing|            57.5|            295|           82|   0.02|           10.91015598|         63|    1141| 15.2|               113|   63|             6.73|         63|      0.1| 369.835796|  26616792|                   19|               19.1|                          0.415|      8.4|\n",
            "|Afghanistan|2006|Developing|            57.3|            295|           84|   0.03|           17.17151751|         64|    1990| 14.7|               116|   58|             7.43|         58|      0.1|  272.56377|   2589345|                 19.2|               19.3|                          0.405|      8.1|\n",
            "|Afghanistan|2005|Developing|            57.3|            291|           85|   0.02|           1.388647732|         66|    1296| 14.2|               118|   58|              8.7|         58|      0.1| 25.2941299|    257798|                 19.3|               19.5|                          0.396|      7.9|\n",
            "|Afghanistan|2004|Developing|              57|            293|           87|   0.02|           15.29606643|         67|     466| 13.8|               120|    5|             8.79|          5|      0.1|219.1413528|  24118979|                 19.5|               19.7|                          0.381|      6.8|\n",
            "|Afghanistan|2003|Developing|            56.7|            295|           87|   0.01|           11.08905273|         65|     798| 13.4|               122|   41|             8.82|         41|      0.1|198.7285436|   2364851|                 19.7|               19.9|                          0.373|      6.5|\n",
            "|Afghanistan|2002|Developing|            56.2|              3|           88|   0.01|           16.88735091|         64|    2486|   13|               122|   36|             7.76|         36|      0.1|  187.84595|  21979923|                 19.9|                2.2|                          0.341|      6.2|\n",
            "|Afghanistan|2001|Developing|            55.3|            316|           88|   0.01|            10.5747282|         63|    8762| 12.6|               122|   35|              7.8|         33|      0.1|  117.49698|   2966463|                  2.1|                2.4|                           0.34|      5.9|\n",
            "|Afghanistan|2000|Developing|            54.8|            321|           88|   0.01|              10.42496|         62|    6532| 12.2|               122|   24|              8.2|         24|      0.1|     114.56|    293756|                  2.3|                2.5|                          0.338|      5.5|\n",
            "|    Albania|2015|Developing|            77.8|             74|            0|    4.6|           364.9752287|         99|       0|   58|                 0|   99|                6|         99|      0.1| 3954.22783|     28873|                  1.2|                1.3|                          0.762|     14.2|\n",
            "|    Albania|2014|Developing|            77.5|              8|            0|   4.51|           428.7490668|         98|       0| 57.2|                 1|   98|             5.88|         98|      0.1|4575.763787|    288914|                  1.2|                1.3|                          0.761|     14.2|\n",
            "|    Albania|2013|Developing|            77.2|             84|            0|   4.76|           430.8769785|         99|       0| 56.5|                 1|   99|             5.66|         99|      0.1| 4414.72314|    289592|                  1.3|                1.4|                          0.759|     14.2|\n",
            "|    Albania|2012|Developing|            76.9|             86|            0|   5.14|           412.4433563|         99|       9| 55.8|                 1|   99|             5.59|         99|      0.1| 4247.61438|      2941|                  1.3|                1.4|                          0.752|     14.2|\n",
            "+-----------+----+----------+----------------+---------------+-------------+-------+----------------------+-----------+--------+-----+------------------+-----+-----------------+-----------+---------+-----------+----------+---------------------+-------------------+-------------------------------+---------+\n",
            "only showing top 20 rows\n",
            "\n"
          ]
        }
      ]
    },
    {
      "cell_type": "code",
      "source": [
        "type(df_ps1)"
      ],
      "metadata": {
        "colab": {
          "base_uri": "https://localhost:8080/"
        },
        "id": "6Vk7fv8r1hu7",
        "outputId": "25e7b853-7000-4dfa-ece6-fe4dc50005c0"
      },
      "execution_count": 9,
      "outputs": [
        {
          "output_type": "execute_result",
          "data": {
            "text/plain": [
              "pyspark.sql.dataframe.DataFrame"
            ]
          },
          "metadata": {},
          "execution_count": 9
        }
      ]
    },
    {
      "cell_type": "code",
      "source": [
        "df_ps1.printSchema()"
      ],
      "metadata": {
        "colab": {
          "base_uri": "https://localhost:8080/"
        },
        "id": "VHfZhvLw1oSp",
        "outputId": "3e2840d6-1961-4909-c900-014ab6665cb9"
      },
      "execution_count": 10,
      "outputs": [
        {
          "output_type": "stream",
          "name": "stdout",
          "text": [
            "root\n",
            " |-- Country: string (nullable = true)\n",
            " |-- Year: string (nullable = true)\n",
            " |-- Status: string (nullable = true)\n",
            " |-- Life expectancy : string (nullable = true)\n",
            " |-- Adult Mortality: string (nullable = true)\n",
            " |-- infant deaths: string (nullable = true)\n",
            " |-- Alcohol: string (nullable = true)\n",
            " |-- percentage expenditure: string (nullable = true)\n",
            " |-- Hepatitis B: string (nullable = true)\n",
            " |-- Measles : string (nullable = true)\n",
            " |--  BMI : string (nullable = true)\n",
            " |-- under-five deaths : string (nullable = true)\n",
            " |-- Polio: string (nullable = true)\n",
            " |-- Total expenditure: string (nullable = true)\n",
            " |-- Diphtheria : string (nullable = true)\n",
            " |--  HIV/AIDS: string (nullable = true)\n",
            " |-- GDP: string (nullable = true)\n",
            " |-- Population: string (nullable = true)\n",
            " |--  thinness  1-19 years: string (nullable = true)\n",
            " |--  thinness 5-9 years: string (nullable = true)\n",
            " |-- Income composition of resources: string (nullable = true)\n",
            " |-- Schooling: string (nullable = true)\n",
            "\n"
          ]
        }
      ]
    },
    {
      "cell_type": "markdown",
      "source": [
        "- printSchema looks similar to pandas_dataframe.info()\n",
        "- also the numerical columns are shown as string. will use inferSchema argument for this."
      ],
      "metadata": {
        "id": "x1Ry8ysO3JR8"
      }
    },
    {
      "cell_type": "code",
      "source": [
        "df_ps2 = spark.read.option('header', 'true').csv('/content/drive/MyDrive/Colab Notebooks/life_exp_data.csv', inferSchema=True)\n",
        "df_ps2.printSchema()"
      ],
      "metadata": {
        "colab": {
          "base_uri": "https://localhost:8080/"
        },
        "id": "IZKXU7-r2aOX",
        "outputId": "83063700-f751-436f-9899-5eb95a1cf281"
      },
      "execution_count": 11,
      "outputs": [
        {
          "output_type": "stream",
          "name": "stdout",
          "text": [
            "root\n",
            " |-- Country: string (nullable = true)\n",
            " |-- Year: integer (nullable = true)\n",
            " |-- Status: string (nullable = true)\n",
            " |-- Life expectancy : double (nullable = true)\n",
            " |-- Adult Mortality: integer (nullable = true)\n",
            " |-- infant deaths: integer (nullable = true)\n",
            " |-- Alcohol: double (nullable = true)\n",
            " |-- percentage expenditure: double (nullable = true)\n",
            " |-- Hepatitis B: integer (nullable = true)\n",
            " |-- Measles : integer (nullable = true)\n",
            " |--  BMI : double (nullable = true)\n",
            " |-- under-five deaths : integer (nullable = true)\n",
            " |-- Polio: integer (nullable = true)\n",
            " |-- Total expenditure: double (nullable = true)\n",
            " |-- Diphtheria : integer (nullable = true)\n",
            " |--  HIV/AIDS: double (nullable = true)\n",
            " |-- GDP: double (nullable = true)\n",
            " |-- Population: double (nullable = true)\n",
            " |--  thinness  1-19 years: double (nullable = true)\n",
            " |--  thinness 5-9 years: double (nullable = true)\n",
            " |-- Income composition of resources: double (nullable = true)\n",
            " |-- Schooling: double (nullable = true)\n",
            "\n"
          ]
        }
      ]
    },
    {
      "cell_type": "markdown",
      "source": [
        "So now the columns are having different datatypes other than just string."
      ],
      "metadata": {
        "id": "b4nCN8nu34oY"
      }
    },
    {
      "cell_type": "code",
      "source": [
        "# alternate way of reading the csv with desired datatypes of the columns\n",
        "\n",
        "file_path = '/content/drive/MyDrive/Colab Notebooks/life_exp_data.csv'\n",
        "df_ps3 = spark.read.csv(file_path, header=True, inferSchema=True)\n",
        "df_ps3.printSchema()"
      ],
      "metadata": {
        "colab": {
          "base_uri": "https://localhost:8080/"
        },
        "id": "VhlImGt012if",
        "outputId": "a8a89de7-c83e-43c8-d66b-e5da05cb6251"
      },
      "execution_count": 12,
      "outputs": [
        {
          "output_type": "stream",
          "name": "stdout",
          "text": [
            "root\n",
            " |-- Country: string (nullable = true)\n",
            " |-- Year: integer (nullable = true)\n",
            " |-- Status: string (nullable = true)\n",
            " |-- Life expectancy : double (nullable = true)\n",
            " |-- Adult Mortality: integer (nullable = true)\n",
            " |-- infant deaths: integer (nullable = true)\n",
            " |-- Alcohol: double (nullable = true)\n",
            " |-- percentage expenditure: double (nullable = true)\n",
            " |-- Hepatitis B: integer (nullable = true)\n",
            " |-- Measles : integer (nullable = true)\n",
            " |--  BMI : double (nullable = true)\n",
            " |-- under-five deaths : integer (nullable = true)\n",
            " |-- Polio: integer (nullable = true)\n",
            " |-- Total expenditure: double (nullable = true)\n",
            " |-- Diphtheria : integer (nullable = true)\n",
            " |--  HIV/AIDS: double (nullable = true)\n",
            " |-- GDP: double (nullable = true)\n",
            " |-- Population: double (nullable = true)\n",
            " |--  thinness  1-19 years: double (nullable = true)\n",
            " |--  thinness 5-9 years: double (nullable = true)\n",
            " |-- Income composition of resources: double (nullable = true)\n",
            " |-- Schooling: double (nullable = true)\n",
            "\n"
          ]
        }
      ]
    },
    {
      "cell_type": "code",
      "source": [
        "# printing the columns\n",
        "\n",
        "print(df_ps3.columns)"
      ],
      "metadata": {
        "colab": {
          "base_uri": "https://localhost:8080/"
        },
        "id": "sxNsGObn4vQa",
        "outputId": "75c12465-263b-4815-b54b-a92b4c19a0a1"
      },
      "execution_count": 13,
      "outputs": [
        {
          "output_type": "stream",
          "name": "stdout",
          "text": [
            "['Country', 'Year', 'Status', 'Life expectancy ', 'Adult Mortality', 'infant deaths', 'Alcohol', 'percentage expenditure', 'Hepatitis B', 'Measles ', ' BMI ', 'under-five deaths ', 'Polio', 'Total expenditure', 'Diphtheria ', ' HIV/AIDS', 'GDP', 'Population', ' thinness  1-19 years', ' thinness 5-9 years', 'Income composition of resources', 'Schooling']\n"
          ]
        }
      ]
    },
    {
      "cell_type": "code",
      "source": [
        "df_ps3.head(5)"
      ],
      "metadata": {
        "colab": {
          "base_uri": "https://localhost:8080/"
        },
        "id": "ItsQ9Eq05IUI",
        "outputId": "5a1ad60d-7a18-4f71-e074-c45b2962b42e"
      },
      "execution_count": 14,
      "outputs": [
        {
          "output_type": "execute_result",
          "data": {
            "text/plain": [
              "[Row(Country='Afghanistan', Year=2015, Status='Developing', Life expectancy =65.0, Adult Mortality=263, infant deaths=62, Alcohol=0.01, percentage expenditure=71.27962362, Hepatitis B=65, Measles =1154,  BMI =19.1, under-five deaths =83, Polio=6, Total expenditure=8.16, Diphtheria =65,  HIV/AIDS=0.1, GDP=584.25921, Population=33736494.0,  thinness  1-19 years=17.2,  thinness 5-9 years=17.3, Income composition of resources=0.479, Schooling=10.1),\n",
              " Row(Country='Afghanistan', Year=2014, Status='Developing', Life expectancy =59.9, Adult Mortality=271, infant deaths=64, Alcohol=0.01, percentage expenditure=73.52358168, Hepatitis B=62, Measles =492,  BMI =18.6, under-five deaths =86, Polio=58, Total expenditure=8.18, Diphtheria =62,  HIV/AIDS=0.1, GDP=612.696514, Population=327582.0,  thinness  1-19 years=17.5,  thinness 5-9 years=17.5, Income composition of resources=0.476, Schooling=10.0),\n",
              " Row(Country='Afghanistan', Year=2013, Status='Developing', Life expectancy =59.9, Adult Mortality=268, infant deaths=66, Alcohol=0.01, percentage expenditure=73.21924272, Hepatitis B=64, Measles =430,  BMI =18.1, under-five deaths =89, Polio=62, Total expenditure=8.13, Diphtheria =64,  HIV/AIDS=0.1, GDP=631.744976, Population=31731688.0,  thinness  1-19 years=17.7,  thinness 5-9 years=17.7, Income composition of resources=0.47, Schooling=9.9),\n",
              " Row(Country='Afghanistan', Year=2012, Status='Developing', Life expectancy =59.5, Adult Mortality=272, infant deaths=69, Alcohol=0.01, percentage expenditure=78.1842153, Hepatitis B=67, Measles =2787,  BMI =17.6, under-five deaths =93, Polio=67, Total expenditure=8.52, Diphtheria =67,  HIV/AIDS=0.1, GDP=669.959, Population=3696958.0,  thinness  1-19 years=17.9,  thinness 5-9 years=18.0, Income composition of resources=0.463, Schooling=9.8),\n",
              " Row(Country='Afghanistan', Year=2011, Status='Developing', Life expectancy =59.2, Adult Mortality=275, infant deaths=71, Alcohol=0.01, percentage expenditure=7.097108703, Hepatitis B=68, Measles =3013,  BMI =17.2, under-five deaths =97, Polio=68, Total expenditure=7.87, Diphtheria =68,  HIV/AIDS=0.1, GDP=63.537231, Population=2978599.0,  thinness  1-19 years=18.2,  thinness 5-9 years=18.2, Income composition of resources=0.454, Schooling=9.5)]"
            ]
          },
          "metadata": {},
          "execution_count": 14
        }
      ]
    },
    {
      "cell_type": "code",
      "source": [
        "# printing single column\n",
        "\n",
        "print(df_ps3.select('Life expectancy '))\n",
        "print(\"type : \", type(df_ps3.select('Life expectancy ')))"
      ],
      "metadata": {
        "colab": {
          "base_uri": "https://localhost:8080/"
        },
        "id": "og0-_XDV5Oqk",
        "outputId": "5a0bf8e7-bce8-4a2a-f981-33634d9a03c1"
      },
      "execution_count": 15,
      "outputs": [
        {
          "output_type": "stream",
          "name": "stdout",
          "text": [
            "DataFrame[Life expectancy : double]\n",
            "type :  <class 'pyspark.sql.dataframe.DataFrame'>\n"
          ]
        }
      ]
    },
    {
      "cell_type": "code",
      "source": [
        "df_ps3.select('Life expectancy ').show()"
      ],
      "metadata": {
        "colab": {
          "base_uri": "https://localhost:8080/"
        },
        "id": "7bE0xKOl5l1Y",
        "outputId": "ca53fb55-cd82-41bc-c043-d826d17aa81f"
      },
      "execution_count": 16,
      "outputs": [
        {
          "output_type": "stream",
          "name": "stdout",
          "text": [
            "+----------------+\n",
            "|Life expectancy |\n",
            "+----------------+\n",
            "|            65.0|\n",
            "|            59.9|\n",
            "|            59.9|\n",
            "|            59.5|\n",
            "|            59.2|\n",
            "|            58.8|\n",
            "|            58.6|\n",
            "|            58.1|\n",
            "|            57.5|\n",
            "|            57.3|\n",
            "|            57.3|\n",
            "|            57.0|\n",
            "|            56.7|\n",
            "|            56.2|\n",
            "|            55.3|\n",
            "|            54.8|\n",
            "|            77.8|\n",
            "|            77.5|\n",
            "|            77.2|\n",
            "|            76.9|\n",
            "+----------------+\n",
            "only showing top 20 rows\n",
            "\n"
          ]
        }
      ]
    },
    {
      "cell_type": "code",
      "source": [
        "# printing multiple columns\n",
        "\n",
        "print(df_ps3.select(['Status','Life expectancy ']))\n",
        "print(\"type : \", type(df_ps3.select(['Status','Life expectancy '])))\n",
        "print(\"head : \", df_ps3.select(['Status','Life expectancy ']).head(5))\n",
        "print(\"---------------------------------------------------------------\")\n",
        "df_ps3.select(['Status','Life expectancy ']).show()"
      ],
      "metadata": {
        "colab": {
          "base_uri": "https://localhost:8080/"
        },
        "id": "t81WpMXJ6BVl",
        "outputId": "786f244e-0f79-446c-fa0f-1d8494250fdc"
      },
      "execution_count": 17,
      "outputs": [
        {
          "output_type": "stream",
          "name": "stdout",
          "text": [
            "DataFrame[Status: string, Life expectancy : double]\n",
            "type :  <class 'pyspark.sql.dataframe.DataFrame'>\n",
            "head :  [Row(Status='Developing', Life expectancy =65.0), Row(Status='Developing', Life expectancy =59.9), Row(Status='Developing', Life expectancy =59.9), Row(Status='Developing', Life expectancy =59.5), Row(Status='Developing', Life expectancy =59.2)]\n",
            "---------------------------------------------------------------\n",
            "+----------+----------------+\n",
            "|    Status|Life expectancy |\n",
            "+----------+----------------+\n",
            "|Developing|            65.0|\n",
            "|Developing|            59.9|\n",
            "|Developing|            59.9|\n",
            "|Developing|            59.5|\n",
            "|Developing|            59.2|\n",
            "|Developing|            58.8|\n",
            "|Developing|            58.6|\n",
            "|Developing|            58.1|\n",
            "|Developing|            57.5|\n",
            "|Developing|            57.3|\n",
            "|Developing|            57.3|\n",
            "|Developing|            57.0|\n",
            "|Developing|            56.7|\n",
            "|Developing|            56.2|\n",
            "|Developing|            55.3|\n",
            "|Developing|            54.8|\n",
            "|Developing|            77.8|\n",
            "|Developing|            77.5|\n",
            "|Developing|            77.2|\n",
            "|Developing|            76.9|\n",
            "+----------+----------------+\n",
            "only showing top 20 rows\n",
            "\n"
          ]
        }
      ]
    },
    {
      "cell_type": "code",
      "source": [
        "# print(df_ps3['Status'])\n",
        "# print(type(df_ps3['Status']))\n",
        "# print(df_ps3['Status'].show()) # does not work"
      ],
      "metadata": {
        "id": "felorWzR6lQN"
      },
      "execution_count": 18,
      "outputs": []
    },
    {
      "cell_type": "code",
      "source": [
        "# Checking datatypes of the columns\n",
        "\n",
        "df_ps3.dtypes"
      ],
      "metadata": {
        "colab": {
          "base_uri": "https://localhost:8080/"
        },
        "id": "26oKEKwv7XEs",
        "outputId": "bfe13330-6b65-4c28-ddc5-b9c4646a4b54"
      },
      "execution_count": 19,
      "outputs": [
        {
          "output_type": "execute_result",
          "data": {
            "text/plain": [
              "[('Country', 'string'),\n",
              " ('Year', 'int'),\n",
              " ('Status', 'string'),\n",
              " ('Life expectancy ', 'double'),\n",
              " ('Adult Mortality', 'int'),\n",
              " ('infant deaths', 'int'),\n",
              " ('Alcohol', 'double'),\n",
              " ('percentage expenditure', 'double'),\n",
              " ('Hepatitis B', 'int'),\n",
              " ('Measles ', 'int'),\n",
              " (' BMI ', 'double'),\n",
              " ('under-five deaths ', 'int'),\n",
              " ('Polio', 'int'),\n",
              " ('Total expenditure', 'double'),\n",
              " ('Diphtheria ', 'int'),\n",
              " (' HIV/AIDS', 'double'),\n",
              " ('GDP', 'double'),\n",
              " ('Population', 'double'),\n",
              " (' thinness  1-19 years', 'double'),\n",
              " (' thinness 5-9 years', 'double'),\n",
              " ('Income composition of resources', 'double'),\n",
              " ('Schooling', 'double')]"
            ]
          },
          "metadata": {},
          "execution_count": 19
        }
      ]
    },
    {
      "cell_type": "code",
      "source": [
        "df_ps3.describe().show()"
      ],
      "metadata": {
        "colab": {
          "base_uri": "https://localhost:8080/"
        },
        "id": "Qrlbkq6U7znX",
        "outputId": "d167a2f2-e28b-4d92-d71f-7493299d9b88"
      },
      "execution_count": 20,
      "outputs": [
        {
          "output_type": "stream",
          "name": "stdout",
          "text": [
            "+-------+-----------+------------------+----------+-----------------+------------------+------------------+------------------+----------------------+------------------+------------------+------------------+------------------+------------------+------------------+-----------------+------------------+------------------+--------------------+---------------------+-------------------+-------------------------------+------------------+\n",
            "|summary|    Country|              Year|    Status| Life expectancy |   Adult Mortality|     infant deaths|           Alcohol|percentage expenditure|       Hepatitis B|          Measles |              BMI |under-five deaths |             Polio| Total expenditure|      Diphtheria |          HIV/AIDS|               GDP|          Population| thinness  1-19 years| thinness 5-9 years|Income composition of resources|         Schooling|\n",
            "+-------+-----------+------------------+----------+-----------------+------------------+------------------+------------------+----------------------+------------------+------------------+------------------+------------------+------------------+------------------+-----------------+------------------+------------------+--------------------+---------------------+-------------------+-------------------------------+------------------+\n",
            "|  count|       2938|              2938|      2938|             2928|              2928|              2938|              2744|                  2938|              2385|              2938|              2904|              2938|              2919|              2712|             2919|              2938|              2490|                2286|                 2904|               2904|                           2771|              2775|\n",
            "|   mean|       null|2007.5187202178352|      null|69.22493169398912|164.79644808743168|30.303948264125257|4.6028607871720375|     738.2512954533823| 80.94046121593291|2419.5922396187884| 38.32124655647373|  42.0357385976855| 82.55018842069202|5.9381895280235915|82.32408359027065|1.7421034717494939| 7483.158469138481|1.2753375120052498E7|   4.8397038567493205|  4.870316804407711|             0.6275510645976166|11.992792792792786|\n",
            "| stddev|       null| 4.613840940258099|      null|9.523867487824305| 124.2920790034219|117.92650131339906| 4.052412658755658|     1987.914858016194|25.070015593018063| 11467.27248923461|20.044033502562083| 160.4455484057337|23.428045949468476| 2.498319672155633| 23.7169120685726| 5.077784531086547|14270.169341515959| 6.101209650842794E7|    4.420194947144322|  4.508882086983007|             0.2109035551515931|3.3589197211023554|\n",
            "|    min|Afghanistan|              2000| Developed|             36.3|                 1|                 0|              0.01|                   0.0|                 1|                 0|               1.0|                 0|                 3|              0.37|                2|               0.1|           1.68135|                34.0|                  0.1|                0.1|                            0.0|               0.0|\n",
            "|    max|   Zimbabwe|              2015|Developing|             89.0|               723|              1800|             17.87|           19479.91161|                99|            212183|              87.3|              2500|                99|              17.6|               99|              50.6|       119172.7418|       1.293859294E9|                 27.7|               28.6|                          0.948|              20.7|\n",
            "+-------+-----------+------------------+----------+-----------------+------------------+------------------+------------------+----------------------+------------------+------------------+------------------+------------------+------------------+------------------+-----------------+------------------+------------------+--------------------+---------------------+-------------------+-------------------------------+------------------+\n",
            "\n"
          ]
        }
      ]
    },
    {
      "cell_type": "code",
      "source": [
        "## adding columns\n",
        "\n",
        "df_ps4 = df_ps3.withColumn('new_column_name', df_ps3['Year']+2)\n",
        "df_ps4.show()"
      ],
      "metadata": {
        "colab": {
          "base_uri": "https://localhost:8080/"
        },
        "id": "IORBrQC78C8X",
        "outputId": "d7031842-a917-4541-f9a3-a344c803f2bb"
      },
      "execution_count": 21,
      "outputs": [
        {
          "output_type": "stream",
          "name": "stdout",
          "text": [
            "+-----------+----+----------+----------------+---------------+-------------+-------+----------------------+-----------+--------+-----+------------------+-----+-----------------+-----------+---------+-----------+-----------+---------------------+-------------------+-------------------------------+---------+---------------+\n",
            "|    Country|Year|    Status|Life expectancy |Adult Mortality|infant deaths|Alcohol|percentage expenditure|Hepatitis B|Measles | BMI |under-five deaths |Polio|Total expenditure|Diphtheria | HIV/AIDS|        GDP| Population| thinness  1-19 years| thinness 5-9 years|Income composition of resources|Schooling|new_column_name|\n",
            "+-----------+----+----------+----------------+---------------+-------------+-------+----------------------+-----------+--------+-----+------------------+-----+-----------------+-----------+---------+-----------+-----------+---------------------+-------------------+-------------------------------+---------+---------------+\n",
            "|Afghanistan|2015|Developing|            65.0|            263|           62|   0.01|           71.27962362|         65|    1154| 19.1|                83|    6|             8.16|         65|      0.1|  584.25921|3.3736494E7|                 17.2|               17.3|                          0.479|     10.1|           2017|\n",
            "|Afghanistan|2014|Developing|            59.9|            271|           64|   0.01|           73.52358168|         62|     492| 18.6|                86|   58|             8.18|         62|      0.1| 612.696514|   327582.0|                 17.5|               17.5|                          0.476|     10.0|           2016|\n",
            "|Afghanistan|2013|Developing|            59.9|            268|           66|   0.01|           73.21924272|         64|     430| 18.1|                89|   62|             8.13|         64|      0.1| 631.744976|3.1731688E7|                 17.7|               17.7|                           0.47|      9.9|           2015|\n",
            "|Afghanistan|2012|Developing|            59.5|            272|           69|   0.01|            78.1842153|         67|    2787| 17.6|                93|   67|             8.52|         67|      0.1|    669.959|  3696958.0|                 17.9|               18.0|                          0.463|      9.8|           2014|\n",
            "|Afghanistan|2011|Developing|            59.2|            275|           71|   0.01|           7.097108703|         68|    3013| 17.2|                97|   68|             7.87|         68|      0.1|  63.537231|  2978599.0|                 18.2|               18.2|                          0.454|      9.5|           2013|\n",
            "|Afghanistan|2010|Developing|            58.8|            279|           74|   0.01|           79.67936736|         66|    1989| 16.7|               102|   66|              9.2|         66|      0.1|  553.32894|  2883167.0|                 18.4|               18.4|                          0.448|      9.2|           2012|\n",
            "|Afghanistan|2009|Developing|            58.6|            281|           77|   0.01|           56.76221682|         63|    2861| 16.2|               106|   63|             9.42|         63|      0.1|445.8932979|   284331.0|                 18.6|               18.7|                          0.434|      8.9|           2011|\n",
            "|Afghanistan|2008|Developing|            58.1|            287|           80|   0.03|           25.87392536|         64|    1599| 15.7|               110|   64|             8.33|         64|      0.1|373.3611163|  2729431.0|                 18.8|               18.9|                          0.433|      8.7|           2010|\n",
            "|Afghanistan|2007|Developing|            57.5|            295|           82|   0.02|           10.91015598|         63|    1141| 15.2|               113|   63|             6.73|         63|      0.1| 369.835796|2.6616792E7|                 19.0|               19.1|                          0.415|      8.4|           2009|\n",
            "|Afghanistan|2006|Developing|            57.3|            295|           84|   0.03|           17.17151751|         64|    1990| 14.7|               116|   58|             7.43|         58|      0.1|  272.56377|  2589345.0|                 19.2|               19.3|                          0.405|      8.1|           2008|\n",
            "|Afghanistan|2005|Developing|            57.3|            291|           85|   0.02|           1.388647732|         66|    1296| 14.2|               118|   58|              8.7|         58|      0.1| 25.2941299|   257798.0|                 19.3|               19.5|                          0.396|      7.9|           2007|\n",
            "|Afghanistan|2004|Developing|            57.0|            293|           87|   0.02|           15.29606643|         67|     466| 13.8|               120|    5|             8.79|          5|      0.1|219.1413528|2.4118979E7|                 19.5|               19.7|                          0.381|      6.8|           2006|\n",
            "|Afghanistan|2003|Developing|            56.7|            295|           87|   0.01|           11.08905273|         65|     798| 13.4|               122|   41|             8.82|         41|      0.1|198.7285436|  2364851.0|                 19.7|               19.9|                          0.373|      6.5|           2005|\n",
            "|Afghanistan|2002|Developing|            56.2|              3|           88|   0.01|           16.88735091|         64|    2486| 13.0|               122|   36|             7.76|         36|      0.1|  187.84595|2.1979923E7|                 19.9|                2.2|                          0.341|      6.2|           2004|\n",
            "|Afghanistan|2001|Developing|            55.3|            316|           88|   0.01|            10.5747282|         63|    8762| 12.6|               122|   35|              7.8|         33|      0.1|  117.49698|  2966463.0|                  2.1|                2.4|                           0.34|      5.9|           2003|\n",
            "|Afghanistan|2000|Developing|            54.8|            321|           88|   0.01|              10.42496|         62|    6532| 12.2|               122|   24|              8.2|         24|      0.1|     114.56|   293756.0|                  2.3|                2.5|                          0.338|      5.5|           2002|\n",
            "|    Albania|2015|Developing|            77.8|             74|            0|    4.6|           364.9752287|         99|       0| 58.0|                 0|   99|              6.0|         99|      0.1| 3954.22783|    28873.0|                  1.2|                1.3|                          0.762|     14.2|           2017|\n",
            "|    Albania|2014|Developing|            77.5|              8|            0|   4.51|           428.7490668|         98|       0| 57.2|                 1|   98|             5.88|         98|      0.1|4575.763787|   288914.0|                  1.2|                1.3|                          0.761|     14.2|           2016|\n",
            "|    Albania|2013|Developing|            77.2|             84|            0|   4.76|           430.8769785|         99|       0| 56.5|                 1|   99|             5.66|         99|      0.1| 4414.72314|   289592.0|                  1.3|                1.4|                          0.759|     14.2|           2015|\n",
            "|    Albania|2012|Developing|            76.9|             86|            0|   5.14|           412.4433563|         99|       9| 55.8|                 1|   99|             5.59|         99|      0.1| 4247.61438|     2941.0|                  1.3|                1.4|                          0.752|     14.2|           2014|\n",
            "+-----------+----+----------+----------------+---------------+-------------+-------+----------------------+-----------+--------+-----+------------------+-----+-----------------+-----------+---------+-----------+-----------+---------------------+-------------------+-------------------------------+---------+---------------+\n",
            "only showing top 20 rows\n",
            "\n"
          ]
        }
      ]
    },
    {
      "cell_type": "code",
      "source": [
        "df_ps4.columns"
      ],
      "metadata": {
        "colab": {
          "base_uri": "https://localhost:8080/"
        },
        "id": "WWtggbbq89L3",
        "outputId": "78d1ebc9-afc6-4825-e286-6417014c3056"
      },
      "execution_count": 22,
      "outputs": [
        {
          "output_type": "execute_result",
          "data": {
            "text/plain": [
              "['Country',\n",
              " 'Year',\n",
              " 'Status',\n",
              " 'Life expectancy ',\n",
              " 'Adult Mortality',\n",
              " 'infant deaths',\n",
              " 'Alcohol',\n",
              " 'percentage expenditure',\n",
              " 'Hepatitis B',\n",
              " 'Measles ',\n",
              " ' BMI ',\n",
              " 'under-five deaths ',\n",
              " 'Polio',\n",
              " 'Total expenditure',\n",
              " 'Diphtheria ',\n",
              " ' HIV/AIDS',\n",
              " 'GDP',\n",
              " 'Population',\n",
              " ' thinness  1-19 years',\n",
              " ' thinness 5-9 years',\n",
              " 'Income composition of resources',\n",
              " 'Schooling',\n",
              " 'new_column_name']"
            ]
          },
          "metadata": {},
          "execution_count": 22
        }
      ]
    },
    {
      "cell_type": "code",
      "source": [
        "## dropping columns\n",
        "\n",
        "df_ps5 = df_ps4.drop('new_column_name')\n",
        "df_ps5.columns"
      ],
      "metadata": {
        "colab": {
          "base_uri": "https://localhost:8080/"
        },
        "id": "FasbVn9B8nEm",
        "outputId": "afaa0e94-2992-4cb6-b179-de2a2ffad128"
      },
      "execution_count": 23,
      "outputs": [
        {
          "output_type": "execute_result",
          "data": {
            "text/plain": [
              "['Country',\n",
              " 'Year',\n",
              " 'Status',\n",
              " 'Life expectancy ',\n",
              " 'Adult Mortality',\n",
              " 'infant deaths',\n",
              " 'Alcohol',\n",
              " 'percentage expenditure',\n",
              " 'Hepatitis B',\n",
              " 'Measles ',\n",
              " ' BMI ',\n",
              " 'under-five deaths ',\n",
              " 'Polio',\n",
              " 'Total expenditure',\n",
              " 'Diphtheria ',\n",
              " ' HIV/AIDS',\n",
              " 'GDP',\n",
              " 'Population',\n",
              " ' thinness  1-19 years',\n",
              " ' thinness 5-9 years',\n",
              " 'Income composition of resources',\n",
              " 'Schooling']"
            ]
          },
          "metadata": {},
          "execution_count": 23
        }
      ]
    },
    {
      "cell_type": "code",
      "source": [
        "## renaming columns\n",
        "\n",
        "df_ps6 = df_ps5.withColumnRenamed('Country', 'Countries')\n",
        "print(\"old column names : \", df_ps5.columns)\n",
        "print(\"new column names : \", df_ps6.columns)"
      ],
      "metadata": {
        "colab": {
          "base_uri": "https://localhost:8080/"
        },
        "id": "73BAI48q9MB-",
        "outputId": "029e2b29-6f63-43ee-ba2d-2944dbb80b38"
      },
      "execution_count": 24,
      "outputs": [
        {
          "output_type": "stream",
          "name": "stdout",
          "text": [
            "old column names :  ['Country', 'Year', 'Status', 'Life expectancy ', 'Adult Mortality', 'infant deaths', 'Alcohol', 'percentage expenditure', 'Hepatitis B', 'Measles ', ' BMI ', 'under-five deaths ', 'Polio', 'Total expenditure', 'Diphtheria ', ' HIV/AIDS', 'GDP', 'Population', ' thinness  1-19 years', ' thinness 5-9 years', 'Income composition of resources', 'Schooling']\n",
            "new column names :  ['Countries', 'Year', 'Status', 'Life expectancy ', 'Adult Mortality', 'infant deaths', 'Alcohol', 'percentage expenditure', 'Hepatitis B', 'Measles ', ' BMI ', 'under-five deaths ', 'Polio', 'Total expenditure', 'Diphtheria ', ' HIV/AIDS', 'GDP', 'Population', ' thinness  1-19 years', ' thinness 5-9 years', 'Income composition of resources', 'Schooling']\n"
          ]
        }
      ]
    },
    {
      "cell_type": "code",
      "source": [
        "## Checking shape of Pyspark dataframe        \n",
        "## there is function similar to shape, however we can use the following workaround\n",
        "\n",
        "# workaround 1\n",
        "import pyspark\n",
        "def spark_shape(self):\n",
        "  return (self.count(), len(self.columns))\n",
        "\n",
        "print(\"With user-defined function : \", spark_shape(df_ps3))\n",
        "\n",
        "# workaround 2\n",
        "print(\"With Pandas : \", df_ps3.toPandas().shape)"
      ],
      "metadata": {
        "colab": {
          "base_uri": "https://localhost:8080/"
        },
        "id": "q0yER0VE9juw",
        "outputId": "e7c54d60-7af3-410b-9333-1fdd66bee647"
      },
      "execution_count": 25,
      "outputs": [
        {
          "output_type": "stream",
          "name": "stdout",
          "text": [
            "With user-defined function :  (2938, 22)\n",
            "With Pandas :  (2938, 22)\n"
          ]
        }
      ]
    },
    {
      "cell_type": "markdown",
      "source": [
        "### Dropping rows containing missing values"
      ],
      "metadata": {
        "id": "G9XicFZmuVik"
      }
    },
    {
      "cell_type": "code",
      "source": [
        "print(\"Size of original dataframe\")\n",
        "print(spark_shape(df_ps6))\n",
        "print(\"Size of the dataframe, If rows containing one or more na's are dropped\")\n",
        "print(spark_shape(df_ps6.na.drop()))\n",
        "print(\"Size of the dataframe, If rows containing only na's are dropped\")\n",
        "print(spark_shape(df_ps6.na.drop(how='all')))\n",
        "print(\"Size of the dataframe, If rows containing less than 20 not-null values are dropped\")\n",
        "print(spark_shape(df_ps6.na.drop(how='any', thresh=20)))"
      ],
      "metadata": {
        "colab": {
          "base_uri": "https://localhost:8080/"
        },
        "id": "9y7aod7eEBaH",
        "outputId": "3838fd48-c192-4f59-f247-c8c5e96cfad2"
      },
      "execution_count": 26,
      "outputs": [
        {
          "output_type": "stream",
          "name": "stdout",
          "text": [
            "Size of original dataframe\n",
            "(2938, 22)\n",
            "Size of the dataframe, If rows containing one or more na's are dropped\n",
            "(1649, 22)\n",
            "Size of the dataframe, If rows containing only na's are dropped\n",
            "(2938, 22)\n",
            "Size of the dataframe, If rows containing less than 20 not-null values are dropped\n",
            "(2666, 22)\n"
          ]
        }
      ]
    },
    {
      "cell_type": "markdown",
      "source": [
        "### Finding number of missing values in each column"
      ],
      "metadata": {
        "id": "81ayTRQtucJP"
      }
    },
    {
      "cell_type": "code",
      "source": [
        "# finding count of null, none, NaN of all columns\n",
        "from pyspark.sql.functions import col, isnan, when, count\n",
        "df_ps6.select([count(when(isnan(c) | col(c).isNull(), c)).alias(c) for c in df_ps6.columns]).show()"
      ],
      "metadata": {
        "colab": {
          "base_uri": "https://localhost:8080/"
        },
        "id": "RjSQ7yJ7qi6x",
        "outputId": "98f9e966-9002-467f-b711-3da1d9e81a4c"
      },
      "execution_count": 27,
      "outputs": [
        {
          "output_type": "stream",
          "name": "stdout",
          "text": [
            "+---------+----+------+----------------+---------------+-------------+-------+----------------------+-----------+--------+-----+------------------+-----+-----------------+-----------+---------+---+----------+---------------------+-------------------+-------------------------------+---------+\n",
            "|Countries|Year|Status|Life expectancy |Adult Mortality|infant deaths|Alcohol|percentage expenditure|Hepatitis B|Measles | BMI |under-five deaths |Polio|Total expenditure|Diphtheria | HIV/AIDS|GDP|Population| thinness  1-19 years| thinness 5-9 years|Income composition of resources|Schooling|\n",
            "+---------+----+------+----------------+---------------+-------------+-------+----------------------+-----------+--------+-----+------------------+-----+-----------------+-----------+---------+---+----------+---------------------+-------------------+-------------------------------+---------+\n",
            "|        0|   0|     0|              10|             10|            0|    194|                     0|        553|       0|   34|                 0|   19|              226|         19|        0|448|       652|                   34|                 34|                            167|      163|\n",
            "+---------+----+------+----------------+---------------+-------------+-------+----------------------+-----------+--------+-----+------------------+-----+-----------------+-----------+---------+---+----------+---------------------+-------------------+-------------------------------+---------+\n",
            "\n"
          ]
        }
      ]
    },
    {
      "cell_type": "code",
      "source": [
        "# dropping rows where a particular column has na's\n",
        "spark_shape(df_ps6.na.drop(how='any', subset=['Life expectancy ']))"
      ],
      "metadata": {
        "colab": {
          "base_uri": "https://localhost:8080/"
        },
        "id": "RVp5yBRTqjlS",
        "outputId": "4cccd390-7cb6-4c62-b994-76d218f68904"
      },
      "execution_count": 28,
      "outputs": [
        {
          "output_type": "execute_result",
          "data": {
            "text/plain": [
              "(2928, 22)"
            ]
          },
          "metadata": {},
          "execution_count": 28
        }
      ]
    },
    {
      "cell_type": "code",
      "source": [
        "# filling the missing values for specific column\n",
        "\n",
        "df_ps7 = df_ps6.na.fill(0, 'Life expectancy ')\n",
        "df_ps7.select([count(when(isnan(c) | col(c).isNull(), c)).alias(c) for c in df_ps7.columns]).show()\n"
      ],
      "metadata": {
        "colab": {
          "base_uri": "https://localhost:8080/"
        },
        "id": "F0252JA1qjsq",
        "outputId": "4a46b00b-39ce-4be1-c71c-de081739fc01"
      },
      "execution_count": 29,
      "outputs": [
        {
          "output_type": "stream",
          "name": "stdout",
          "text": [
            "+---------+----+------+----------------+---------------+-------------+-------+----------------------+-----------+--------+-----+------------------+-----+-----------------+-----------+---------+---+----------+---------------------+-------------------+-------------------------------+---------+\n",
            "|Countries|Year|Status|Life expectancy |Adult Mortality|infant deaths|Alcohol|percentage expenditure|Hepatitis B|Measles | BMI |under-five deaths |Polio|Total expenditure|Diphtheria | HIV/AIDS|GDP|Population| thinness  1-19 years| thinness 5-9 years|Income composition of resources|Schooling|\n",
            "+---------+----+------+----------------+---------------+-------------+-------+----------------------+-----------+--------+-----+------------------+-----+-----------------+-----------+---------+---+----------+---------------------+-------------------+-------------------------------+---------+\n",
            "|        0|   0|     0|               0|             10|            0|    194|                     0|        553|       0|   34|                 0|   19|              226|         19|        0|448|       652|                   34|                 34|                            167|      163|\n",
            "+---------+----+------+----------------+---------------+-------------+-------+----------------------+-----------+--------+-----+------------------+-----+-----------------+-----------+---------+---+----------+---------------------+-------------------+-------------------------------+---------+\n",
            "\n"
          ]
        }
      ]
    },
    {
      "cell_type": "code",
      "source": [
        "# filling the missing values for specific columns\n",
        "\n",
        "df_ps8 = df_ps6.na.fill(0, ['Life expectancy ', 'Adult Mortality'])\n",
        "df_ps8.select([count(when(isnan(c) | col(c).isNull(), c)).alias(c) for c in df_ps8.columns]).show()\n"
      ],
      "metadata": {
        "colab": {
          "base_uri": "https://localhost:8080/"
        },
        "id": "bLZYBJPvqj9m",
        "outputId": "4377ea58-dfb2-452b-cf15-24cef8b8aa40"
      },
      "execution_count": 30,
      "outputs": [
        {
          "output_type": "stream",
          "name": "stdout",
          "text": [
            "+---------+----+------+----------------+---------------+-------------+-------+----------------------+-----------+--------+-----+------------------+-----+-----------------+-----------+---------+---+----------+---------------------+-------------------+-------------------------------+---------+\n",
            "|Countries|Year|Status|Life expectancy |Adult Mortality|infant deaths|Alcohol|percentage expenditure|Hepatitis B|Measles | BMI |under-five deaths |Polio|Total expenditure|Diphtheria | HIV/AIDS|GDP|Population| thinness  1-19 years| thinness 5-9 years|Income composition of resources|Schooling|\n",
            "+---------+----+------+----------------+---------------+-------------+-------+----------------------+-----------+--------+-----+------------------+-----+-----------------+-----------+---------+---+----------+---------------------+-------------------+-------------------------------+---------+\n",
            "|        0|   0|     0|               0|              0|            0|    194|                     0|        553|       0|   34|                 0|   19|              226|         19|        0|448|       652|                   34|                 34|                            167|      163|\n",
            "+---------+----+------+----------------+---------------+-------------+-------+----------------------+-----------+--------+-----+------------------+-----+-----------------+-----------+---------+---+----------+---------------------+-------------------+-------------------------------+---------+\n",
            "\n"
          ]
        }
      ]
    },
    {
      "cell_type": "code",
      "source": [
        "# imputing mean value \n",
        "\n",
        "from pyspark.ml.feature import Imputer\n",
        "\n",
        "imputer = Imputer(\n",
        "    inputCols = ['Alcohol', 'Hepatitis B'],\n",
        "    outputCols = [\"{}_new\".format(c) for c in ['Alcohol', 'Hepatitis B']]).setStrategy('mean')\n",
        "# we can use median as well"
      ],
      "metadata": {
        "id": "PMI_Q6eSqkOE"
      },
      "execution_count": 31,
      "outputs": []
    },
    {
      "cell_type": "code",
      "source": [
        "df_ps9 = imputer.fit(df_ps8).transform(df_ps8)\n",
        "print(\"Checking missing value count after imputing missing values\")\n",
        "df_ps9.select([count(when(isnan(c) | col(c).isNull(), c)).alias(c) for c in df_ps9.columns]).show()"
      ],
      "metadata": {
        "colab": {
          "base_uri": "https://localhost:8080/"
        },
        "id": "OMZ1OKfJqkcy",
        "outputId": "5b28eb5f-7ae6-478b-d7d8-dd9dadc6e1c0"
      },
      "execution_count": 32,
      "outputs": [
        {
          "output_type": "stream",
          "name": "stdout",
          "text": [
            "Checking missing value count after imputing missing values\n",
            "+---------+----+------+----------------+---------------+-------------+-------+----------------------+-----------+--------+-----+------------------+-----+-----------------+-----------+---------+---+----------+---------------------+-------------------+-------------------------------+---------+-----------+---------------+\n",
            "|Countries|Year|Status|Life expectancy |Adult Mortality|infant deaths|Alcohol|percentage expenditure|Hepatitis B|Measles | BMI |under-five deaths |Polio|Total expenditure|Diphtheria | HIV/AIDS|GDP|Population| thinness  1-19 years| thinness 5-9 years|Income composition of resources|Schooling|Alcohol_new|Hepatitis B_new|\n",
            "+---------+----+------+----------------+---------------+-------------+-------+----------------------+-----------+--------+-----+------------------+-----+-----------------+-----------+---------+---+----------+---------------------+-------------------+-------------------------------+---------+-----------+---------------+\n",
            "|        0|   0|     0|               0|              0|            0|    194|                     0|        553|       0|   34|                 0|   19|              226|         19|        0|448|       652|                   34|                 34|                            167|      163|          0|              0|\n",
            "+---------+----+------+----------------+---------------+-------------+-------+----------------------+-----------+--------+-----+------------------+-----+-----------------+-----------+---------+---+----------+---------------------+-------------------+-------------------------------+---------+-----------+---------------+\n",
            "\n"
          ]
        }
      ]
    },
    {
      "cell_type": "markdown",
      "source": [
        "## Filtering rows based on conditions"
      ],
      "metadata": {
        "id": "ck2KTibjsLI-"
      }
    },
    {
      "cell_type": "code",
      "source": [
        "# filtering rows based on condition\n",
        "\n",
        "df_ps9.filter('Year > 2005').show()"
      ],
      "metadata": {
        "colab": {
          "base_uri": "https://localhost:8080/"
        },
        "id": "wptfePoHqktK",
        "outputId": "8db1d10b-212f-4f4c-d026-9ab86e3ba30f"
      },
      "execution_count": 36,
      "outputs": [
        {
          "output_type": "stream",
          "name": "stdout",
          "text": [
            "+-----------+----+----------+----------------+---------------+-------------+-------+----------------------+-----------+--------+-----+------------------+-----+-----------------+-----------+---------+-----------+-----------+---------------------+-------------------+-------------------------------+---------+-----------+---------------+\n",
            "|  Countries|Year|    Status|Life expectancy |Adult Mortality|infant deaths|Alcohol|percentage expenditure|Hepatitis B|Measles | BMI |under-five deaths |Polio|Total expenditure|Diphtheria | HIV/AIDS|        GDP| Population| thinness  1-19 years| thinness 5-9 years|Income composition of resources|Schooling|Alcohol_new|Hepatitis B_new|\n",
            "+-----------+----+----------+----------------+---------------+-------------+-------+----------------------+-----------+--------+-----+------------------+-----+-----------------+-----------+---------+-----------+-----------+---------------------+-------------------+-------------------------------+---------+-----------+---------------+\n",
            "|Afghanistan|2015|Developing|            65.0|            263|           62|   0.01|           71.27962362|         65|    1154| 19.1|                83|    6|             8.16|         65|      0.1|  584.25921|3.3736494E7|                 17.2|               17.3|                          0.479|     10.1|       0.01|             65|\n",
            "|Afghanistan|2014|Developing|            59.9|            271|           64|   0.01|           73.52358168|         62|     492| 18.6|                86|   58|             8.18|         62|      0.1| 612.696514|   327582.0|                 17.5|               17.5|                          0.476|     10.0|       0.01|             62|\n",
            "|Afghanistan|2013|Developing|            59.9|            268|           66|   0.01|           73.21924272|         64|     430| 18.1|                89|   62|             8.13|         64|      0.1| 631.744976|3.1731688E7|                 17.7|               17.7|                           0.47|      9.9|       0.01|             64|\n",
            "|Afghanistan|2012|Developing|            59.5|            272|           69|   0.01|            78.1842153|         67|    2787| 17.6|                93|   67|             8.52|         67|      0.1|    669.959|  3696958.0|                 17.9|               18.0|                          0.463|      9.8|       0.01|             67|\n",
            "|Afghanistan|2011|Developing|            59.2|            275|           71|   0.01|           7.097108703|         68|    3013| 17.2|                97|   68|             7.87|         68|      0.1|  63.537231|  2978599.0|                 18.2|               18.2|                          0.454|      9.5|       0.01|             68|\n",
            "|Afghanistan|2010|Developing|            58.8|            279|           74|   0.01|           79.67936736|         66|    1989| 16.7|               102|   66|              9.2|         66|      0.1|  553.32894|  2883167.0|                 18.4|               18.4|                          0.448|      9.2|       0.01|             66|\n",
            "|Afghanistan|2009|Developing|            58.6|            281|           77|   0.01|           56.76221682|         63|    2861| 16.2|               106|   63|             9.42|         63|      0.1|445.8932979|   284331.0|                 18.6|               18.7|                          0.434|      8.9|       0.01|             63|\n",
            "|Afghanistan|2008|Developing|            58.1|            287|           80|   0.03|           25.87392536|         64|    1599| 15.7|               110|   64|             8.33|         64|      0.1|373.3611163|  2729431.0|                 18.8|               18.9|                          0.433|      8.7|       0.03|             64|\n",
            "|Afghanistan|2007|Developing|            57.5|            295|           82|   0.02|           10.91015598|         63|    1141| 15.2|               113|   63|             6.73|         63|      0.1| 369.835796|2.6616792E7|                 19.0|               19.1|                          0.415|      8.4|       0.02|             63|\n",
            "|Afghanistan|2006|Developing|            57.3|            295|           84|   0.03|           17.17151751|         64|    1990| 14.7|               116|   58|             7.43|         58|      0.1|  272.56377|  2589345.0|                 19.2|               19.3|                          0.405|      8.1|       0.03|             64|\n",
            "|    Albania|2015|Developing|            77.8|             74|            0|    4.6|           364.9752287|         99|       0| 58.0|                 0|   99|              6.0|         99|      0.1| 3954.22783|    28873.0|                  1.2|                1.3|                          0.762|     14.2|        4.6|             99|\n",
            "|    Albania|2014|Developing|            77.5|              8|            0|   4.51|           428.7490668|         98|       0| 57.2|                 1|   98|             5.88|         98|      0.1|4575.763787|   288914.0|                  1.2|                1.3|                          0.761|     14.2|       4.51|             98|\n",
            "|    Albania|2013|Developing|            77.2|             84|            0|   4.76|           430.8769785|         99|       0| 56.5|                 1|   99|             5.66|         99|      0.1| 4414.72314|   289592.0|                  1.3|                1.4|                          0.759|     14.2|       4.76|             99|\n",
            "|    Albania|2012|Developing|            76.9|             86|            0|   5.14|           412.4433563|         99|       9| 55.8|                 1|   99|             5.59|         99|      0.1| 4247.61438|     2941.0|                  1.3|                1.4|                          0.752|     14.2|       5.14|             99|\n",
            "|    Albania|2011|Developing|            76.6|             88|            0|   5.37|              437.0621|         99|      28| 55.1|                 1|   99|             5.71|         99|      0.1| 4437.17868|   295195.0|                  1.4|                1.5|                          0.738|     13.3|       5.37|             99|\n",
            "|    Albania|2010|Developing|            76.2|             91|            1|   5.28|           41.82275719|         99|      10| 54.3|                 1|   99|             5.34|         99|      0.1| 494.358832|   291321.0|                  1.4|                1.5|                          0.725|     12.5|       5.28|             99|\n",
            "|    Albania|2009|Developing|            76.1|             91|            1|   5.79|           348.0559517|         98|       0| 53.5|                 1|   98|             5.79|         98|      0.1|4114.136545|  2927519.0|                  1.5|                1.6|                          0.721|     12.2|       5.79|             98|\n",
            "|    Albania|2008|Developing|            75.3|              1|            1|   5.61|           36.62206845|         99|       0| 52.6|                 1|   99|             5.87|         99|      0.1| 437.539647|  2947314.0|                  1.6|                1.6|                          0.713|     12.0|       5.61|             99|\n",
            "|    Albania|2007|Developing|            75.9|              9|            1|   5.58|           32.24655228|         98|      22| 51.7|                 1|   99|              6.1|         98|      0.1|  363.13685|    29717.0|                  1.6|                1.7|                          0.703|     11.6|       5.58|             98|\n",
            "|    Albania|2006|Developing|            74.2|             99|            1|   5.31|             3.3021542|         98|      68|  5.8|                 1|   97|             5.86|         97|      0.1|    35.1293|  2992547.0|                  1.7|                1.8|                          0.696|     11.4|       5.31|             98|\n",
            "+-----------+----+----------+----------------+---------------+-------------+-------+----------------------+-----------+--------+-----+------------------+-----+-----------------+-----------+---------+-----------+-----------+---------------------+-------------------+-------------------------------+---------+-----------+---------------+\n",
            "only showing top 20 rows\n",
            "\n"
          ]
        }
      ]
    },
    {
      "cell_type": "code",
      "source": [
        "# column name with leading or trailing blank space did not work for this syntax\n",
        "\n",
        "# df_ps9.filter('Year > 2005').show()"
      ],
      "metadata": {
        "id": "gXcg-nnOsP1E"
      },
      "execution_count": 37,
      "outputs": []
    },
    {
      "cell_type": "code",
      "source": [
        "# Showing specific columns\n",
        "\n",
        "df_ps9.filter('Year > 2005').select(['Countries', 'Year']).show()"
      ],
      "metadata": {
        "colab": {
          "base_uri": "https://localhost:8080/"
        },
        "id": "zfxhbVDJsQRk",
        "outputId": "692b44fa-5571-45dd-cabb-4b82b30d4f04"
      },
      "execution_count": 38,
      "outputs": [
        {
          "output_type": "stream",
          "name": "stdout",
          "text": [
            "+-----------+----+\n",
            "|  Countries|Year|\n",
            "+-----------+----+\n",
            "|Afghanistan|2015|\n",
            "|Afghanistan|2014|\n",
            "|Afghanistan|2013|\n",
            "|Afghanistan|2012|\n",
            "|Afghanistan|2011|\n",
            "|Afghanistan|2010|\n",
            "|Afghanistan|2009|\n",
            "|Afghanistan|2008|\n",
            "|Afghanistan|2007|\n",
            "|Afghanistan|2006|\n",
            "|    Albania|2015|\n",
            "|    Albania|2014|\n",
            "|    Albania|2013|\n",
            "|    Albania|2012|\n",
            "|    Albania|2011|\n",
            "|    Albania|2010|\n",
            "|    Albania|2009|\n",
            "|    Albania|2008|\n",
            "|    Albania|2007|\n",
            "|    Albania|2006|\n",
            "+-----------+----+\n",
            "only showing top 20 rows\n",
            "\n"
          ]
        }
      ]
    },
    {
      "cell_type": "code",
      "source": [
        "# alternative way of filtering\n",
        "\n",
        "df_ps9.filter(df_ps9['Year'] > 2005).show()"
      ],
      "metadata": {
        "colab": {
          "base_uri": "https://localhost:8080/"
        },
        "id": "aOY_CJFesQVt",
        "outputId": "42192aeb-be86-4a69-e2a2-aa7412e05203"
      },
      "execution_count": 39,
      "outputs": [
        {
          "output_type": "stream",
          "name": "stdout",
          "text": [
            "+-----------+----+----------+----------------+---------------+-------------+-------+----------------------+-----------+--------+-----+------------------+-----+-----------------+-----------+---------+-----------+-----------+---------------------+-------------------+-------------------------------+---------+-----------+---------------+\n",
            "|  Countries|Year|    Status|Life expectancy |Adult Mortality|infant deaths|Alcohol|percentage expenditure|Hepatitis B|Measles | BMI |under-five deaths |Polio|Total expenditure|Diphtheria | HIV/AIDS|        GDP| Population| thinness  1-19 years| thinness 5-9 years|Income composition of resources|Schooling|Alcohol_new|Hepatitis B_new|\n",
            "+-----------+----+----------+----------------+---------------+-------------+-------+----------------------+-----------+--------+-----+------------------+-----+-----------------+-----------+---------+-----------+-----------+---------------------+-------------------+-------------------------------+---------+-----------+---------------+\n",
            "|Afghanistan|2015|Developing|            65.0|            263|           62|   0.01|           71.27962362|         65|    1154| 19.1|                83|    6|             8.16|         65|      0.1|  584.25921|3.3736494E7|                 17.2|               17.3|                          0.479|     10.1|       0.01|             65|\n",
            "|Afghanistan|2014|Developing|            59.9|            271|           64|   0.01|           73.52358168|         62|     492| 18.6|                86|   58|             8.18|         62|      0.1| 612.696514|   327582.0|                 17.5|               17.5|                          0.476|     10.0|       0.01|             62|\n",
            "|Afghanistan|2013|Developing|            59.9|            268|           66|   0.01|           73.21924272|         64|     430| 18.1|                89|   62|             8.13|         64|      0.1| 631.744976|3.1731688E7|                 17.7|               17.7|                           0.47|      9.9|       0.01|             64|\n",
            "|Afghanistan|2012|Developing|            59.5|            272|           69|   0.01|            78.1842153|         67|    2787| 17.6|                93|   67|             8.52|         67|      0.1|    669.959|  3696958.0|                 17.9|               18.0|                          0.463|      9.8|       0.01|             67|\n",
            "|Afghanistan|2011|Developing|            59.2|            275|           71|   0.01|           7.097108703|         68|    3013| 17.2|                97|   68|             7.87|         68|      0.1|  63.537231|  2978599.0|                 18.2|               18.2|                          0.454|      9.5|       0.01|             68|\n",
            "|Afghanistan|2010|Developing|            58.8|            279|           74|   0.01|           79.67936736|         66|    1989| 16.7|               102|   66|              9.2|         66|      0.1|  553.32894|  2883167.0|                 18.4|               18.4|                          0.448|      9.2|       0.01|             66|\n",
            "|Afghanistan|2009|Developing|            58.6|            281|           77|   0.01|           56.76221682|         63|    2861| 16.2|               106|   63|             9.42|         63|      0.1|445.8932979|   284331.0|                 18.6|               18.7|                          0.434|      8.9|       0.01|             63|\n",
            "|Afghanistan|2008|Developing|            58.1|            287|           80|   0.03|           25.87392536|         64|    1599| 15.7|               110|   64|             8.33|         64|      0.1|373.3611163|  2729431.0|                 18.8|               18.9|                          0.433|      8.7|       0.03|             64|\n",
            "|Afghanistan|2007|Developing|            57.5|            295|           82|   0.02|           10.91015598|         63|    1141| 15.2|               113|   63|             6.73|         63|      0.1| 369.835796|2.6616792E7|                 19.0|               19.1|                          0.415|      8.4|       0.02|             63|\n",
            "|Afghanistan|2006|Developing|            57.3|            295|           84|   0.03|           17.17151751|         64|    1990| 14.7|               116|   58|             7.43|         58|      0.1|  272.56377|  2589345.0|                 19.2|               19.3|                          0.405|      8.1|       0.03|             64|\n",
            "|    Albania|2015|Developing|            77.8|             74|            0|    4.6|           364.9752287|         99|       0| 58.0|                 0|   99|              6.0|         99|      0.1| 3954.22783|    28873.0|                  1.2|                1.3|                          0.762|     14.2|        4.6|             99|\n",
            "|    Albania|2014|Developing|            77.5|              8|            0|   4.51|           428.7490668|         98|       0| 57.2|                 1|   98|             5.88|         98|      0.1|4575.763787|   288914.0|                  1.2|                1.3|                          0.761|     14.2|       4.51|             98|\n",
            "|    Albania|2013|Developing|            77.2|             84|            0|   4.76|           430.8769785|         99|       0| 56.5|                 1|   99|             5.66|         99|      0.1| 4414.72314|   289592.0|                  1.3|                1.4|                          0.759|     14.2|       4.76|             99|\n",
            "|    Albania|2012|Developing|            76.9|             86|            0|   5.14|           412.4433563|         99|       9| 55.8|                 1|   99|             5.59|         99|      0.1| 4247.61438|     2941.0|                  1.3|                1.4|                          0.752|     14.2|       5.14|             99|\n",
            "|    Albania|2011|Developing|            76.6|             88|            0|   5.37|              437.0621|         99|      28| 55.1|                 1|   99|             5.71|         99|      0.1| 4437.17868|   295195.0|                  1.4|                1.5|                          0.738|     13.3|       5.37|             99|\n",
            "|    Albania|2010|Developing|            76.2|             91|            1|   5.28|           41.82275719|         99|      10| 54.3|                 1|   99|             5.34|         99|      0.1| 494.358832|   291321.0|                  1.4|                1.5|                          0.725|     12.5|       5.28|             99|\n",
            "|    Albania|2009|Developing|            76.1|             91|            1|   5.79|           348.0559517|         98|       0| 53.5|                 1|   98|             5.79|         98|      0.1|4114.136545|  2927519.0|                  1.5|                1.6|                          0.721|     12.2|       5.79|             98|\n",
            "|    Albania|2008|Developing|            75.3|              1|            1|   5.61|           36.62206845|         99|       0| 52.6|                 1|   99|             5.87|         99|      0.1| 437.539647|  2947314.0|                  1.6|                1.6|                          0.713|     12.0|       5.61|             99|\n",
            "|    Albania|2007|Developing|            75.9|              9|            1|   5.58|           32.24655228|         98|      22| 51.7|                 1|   99|              6.1|         98|      0.1|  363.13685|    29717.0|                  1.6|                1.7|                          0.703|     11.6|       5.58|             98|\n",
            "|    Albania|2006|Developing|            74.2|             99|            1|   5.31|             3.3021542|         98|      68|  5.8|                 1|   97|             5.86|         97|      0.1|    35.1293|  2992547.0|                  1.7|                1.8|                          0.696|     11.4|       5.31|             98|\n",
            "+-----------+----+----------+----------------+---------------+-------------+-------+----------------------+-----------+--------+-----+------------------+-----+-----------------+-----------+---------+-----------+-----------+---------------------+-------------------+-------------------------------+---------+-----------+---------------+\n",
            "only showing top 20 rows\n",
            "\n"
          ]
        }
      ]
    },
    {
      "cell_type": "code",
      "source": [
        "# this works for column names with leading and trailing spaces\n",
        "\n",
        "df_ps9.filter(df_ps9['Life expectancy '] > 40).show()"
      ],
      "metadata": {
        "colab": {
          "base_uri": "https://localhost:8080/"
        },
        "id": "3FeFrOFJsQzu",
        "outputId": "21a0587a-0e00-419b-d5a6-63b9c9cd903f"
      },
      "execution_count": 40,
      "outputs": [
        {
          "output_type": "stream",
          "name": "stdout",
          "text": [
            "+-----------+----+----------+----------------+---------------+-------------+-------+----------------------+-----------+--------+-----+------------------+-----+-----------------+-----------+---------+-----------+-----------+---------------------+-------------------+-------------------------------+---------+-----------+---------------+\n",
            "|  Countries|Year|    Status|Life expectancy |Adult Mortality|infant deaths|Alcohol|percentage expenditure|Hepatitis B|Measles | BMI |under-five deaths |Polio|Total expenditure|Diphtheria | HIV/AIDS|        GDP| Population| thinness  1-19 years| thinness 5-9 years|Income composition of resources|Schooling|Alcohol_new|Hepatitis B_new|\n",
            "+-----------+----+----------+----------------+---------------+-------------+-------+----------------------+-----------+--------+-----+------------------+-----+-----------------+-----------+---------+-----------+-----------+---------------------+-------------------+-------------------------------+---------+-----------+---------------+\n",
            "|Afghanistan|2015|Developing|            65.0|            263|           62|   0.01|           71.27962362|         65|    1154| 19.1|                83|    6|             8.16|         65|      0.1|  584.25921|3.3736494E7|                 17.2|               17.3|                          0.479|     10.1|       0.01|             65|\n",
            "|Afghanistan|2014|Developing|            59.9|            271|           64|   0.01|           73.52358168|         62|     492| 18.6|                86|   58|             8.18|         62|      0.1| 612.696514|   327582.0|                 17.5|               17.5|                          0.476|     10.0|       0.01|             62|\n",
            "|Afghanistan|2013|Developing|            59.9|            268|           66|   0.01|           73.21924272|         64|     430| 18.1|                89|   62|             8.13|         64|      0.1| 631.744976|3.1731688E7|                 17.7|               17.7|                           0.47|      9.9|       0.01|             64|\n",
            "|Afghanistan|2012|Developing|            59.5|            272|           69|   0.01|            78.1842153|         67|    2787| 17.6|                93|   67|             8.52|         67|      0.1|    669.959|  3696958.0|                 17.9|               18.0|                          0.463|      9.8|       0.01|             67|\n",
            "|Afghanistan|2011|Developing|            59.2|            275|           71|   0.01|           7.097108703|         68|    3013| 17.2|                97|   68|             7.87|         68|      0.1|  63.537231|  2978599.0|                 18.2|               18.2|                          0.454|      9.5|       0.01|             68|\n",
            "|Afghanistan|2010|Developing|            58.8|            279|           74|   0.01|           79.67936736|         66|    1989| 16.7|               102|   66|              9.2|         66|      0.1|  553.32894|  2883167.0|                 18.4|               18.4|                          0.448|      9.2|       0.01|             66|\n",
            "|Afghanistan|2009|Developing|            58.6|            281|           77|   0.01|           56.76221682|         63|    2861| 16.2|               106|   63|             9.42|         63|      0.1|445.8932979|   284331.0|                 18.6|               18.7|                          0.434|      8.9|       0.01|             63|\n",
            "|Afghanistan|2008|Developing|            58.1|            287|           80|   0.03|           25.87392536|         64|    1599| 15.7|               110|   64|             8.33|         64|      0.1|373.3611163|  2729431.0|                 18.8|               18.9|                          0.433|      8.7|       0.03|             64|\n",
            "|Afghanistan|2007|Developing|            57.5|            295|           82|   0.02|           10.91015598|         63|    1141| 15.2|               113|   63|             6.73|         63|      0.1| 369.835796|2.6616792E7|                 19.0|               19.1|                          0.415|      8.4|       0.02|             63|\n",
            "|Afghanistan|2006|Developing|            57.3|            295|           84|   0.03|           17.17151751|         64|    1990| 14.7|               116|   58|             7.43|         58|      0.1|  272.56377|  2589345.0|                 19.2|               19.3|                          0.405|      8.1|       0.03|             64|\n",
            "|Afghanistan|2005|Developing|            57.3|            291|           85|   0.02|           1.388647732|         66|    1296| 14.2|               118|   58|              8.7|         58|      0.1| 25.2941299|   257798.0|                 19.3|               19.5|                          0.396|      7.9|       0.02|             66|\n",
            "|Afghanistan|2004|Developing|            57.0|            293|           87|   0.02|           15.29606643|         67|     466| 13.8|               120|    5|             8.79|          5|      0.1|219.1413528|2.4118979E7|                 19.5|               19.7|                          0.381|      6.8|       0.02|             67|\n",
            "|Afghanistan|2003|Developing|            56.7|            295|           87|   0.01|           11.08905273|         65|     798| 13.4|               122|   41|             8.82|         41|      0.1|198.7285436|  2364851.0|                 19.7|               19.9|                          0.373|      6.5|       0.01|             65|\n",
            "|Afghanistan|2002|Developing|            56.2|              3|           88|   0.01|           16.88735091|         64|    2486| 13.0|               122|   36|             7.76|         36|      0.1|  187.84595|2.1979923E7|                 19.9|                2.2|                          0.341|      6.2|       0.01|             64|\n",
            "|Afghanistan|2001|Developing|            55.3|            316|           88|   0.01|            10.5747282|         63|    8762| 12.6|               122|   35|              7.8|         33|      0.1|  117.49698|  2966463.0|                  2.1|                2.4|                           0.34|      5.9|       0.01|             63|\n",
            "|Afghanistan|2000|Developing|            54.8|            321|           88|   0.01|              10.42496|         62|    6532| 12.2|               122|   24|              8.2|         24|      0.1|     114.56|   293756.0|                  2.3|                2.5|                          0.338|      5.5|       0.01|             62|\n",
            "|    Albania|2015|Developing|            77.8|             74|            0|    4.6|           364.9752287|         99|       0| 58.0|                 0|   99|              6.0|         99|      0.1| 3954.22783|    28873.0|                  1.2|                1.3|                          0.762|     14.2|        4.6|             99|\n",
            "|    Albania|2014|Developing|            77.5|              8|            0|   4.51|           428.7490668|         98|       0| 57.2|                 1|   98|             5.88|         98|      0.1|4575.763787|   288914.0|                  1.2|                1.3|                          0.761|     14.2|       4.51|             98|\n",
            "|    Albania|2013|Developing|            77.2|             84|            0|   4.76|           430.8769785|         99|       0| 56.5|                 1|   99|             5.66|         99|      0.1| 4414.72314|   289592.0|                  1.3|                1.4|                          0.759|     14.2|       4.76|             99|\n",
            "|    Albania|2012|Developing|            76.9|             86|            0|   5.14|           412.4433563|         99|       9| 55.8|                 1|   99|             5.59|         99|      0.1| 4247.61438|     2941.0|                  1.3|                1.4|                          0.752|     14.2|       5.14|             99|\n",
            "+-----------+----+----------+----------------+---------------+-------------+-------+----------------------+-----------+--------+-----+------------------+-----+-----------------+-----------+---------+-----------+-----------+---------------------+-------------------+-------------------------------+---------+-----------+---------------+\n",
            "only showing top 20 rows\n",
            "\n"
          ]
        }
      ]
    },
    {
      "cell_type": "code",
      "source": [
        "# multiple conditions\n",
        "\n",
        "df_ps9.filter((df_ps9['Year'] > 2005) &\n",
        "              (df_ps9['Life expectancy '] > 40)).show()"
      ],
      "metadata": {
        "colab": {
          "base_uri": "https://localhost:8080/"
        },
        "id": "tHF-rUAHqlGd",
        "outputId": "fff71458-0938-4504-d6eb-75990e6e5037"
      },
      "execution_count": 41,
      "outputs": [
        {
          "output_type": "stream",
          "name": "stdout",
          "text": [
            "+-----------+----+----------+----------------+---------------+-------------+-------+----------------------+-----------+--------+-----+------------------+-----+-----------------+-----------+---------+-----------+-----------+---------------------+-------------------+-------------------------------+---------+-----------+---------------+\n",
            "|  Countries|Year|    Status|Life expectancy |Adult Mortality|infant deaths|Alcohol|percentage expenditure|Hepatitis B|Measles | BMI |under-five deaths |Polio|Total expenditure|Diphtheria | HIV/AIDS|        GDP| Population| thinness  1-19 years| thinness 5-9 years|Income composition of resources|Schooling|Alcohol_new|Hepatitis B_new|\n",
            "+-----------+----+----------+----------------+---------------+-------------+-------+----------------------+-----------+--------+-----+------------------+-----+-----------------+-----------+---------+-----------+-----------+---------------------+-------------------+-------------------------------+---------+-----------+---------------+\n",
            "|Afghanistan|2015|Developing|            65.0|            263|           62|   0.01|           71.27962362|         65|    1154| 19.1|                83|    6|             8.16|         65|      0.1|  584.25921|3.3736494E7|                 17.2|               17.3|                          0.479|     10.1|       0.01|             65|\n",
            "|Afghanistan|2014|Developing|            59.9|            271|           64|   0.01|           73.52358168|         62|     492| 18.6|                86|   58|             8.18|         62|      0.1| 612.696514|   327582.0|                 17.5|               17.5|                          0.476|     10.0|       0.01|             62|\n",
            "|Afghanistan|2013|Developing|            59.9|            268|           66|   0.01|           73.21924272|         64|     430| 18.1|                89|   62|             8.13|         64|      0.1| 631.744976|3.1731688E7|                 17.7|               17.7|                           0.47|      9.9|       0.01|             64|\n",
            "|Afghanistan|2012|Developing|            59.5|            272|           69|   0.01|            78.1842153|         67|    2787| 17.6|                93|   67|             8.52|         67|      0.1|    669.959|  3696958.0|                 17.9|               18.0|                          0.463|      9.8|       0.01|             67|\n",
            "|Afghanistan|2011|Developing|            59.2|            275|           71|   0.01|           7.097108703|         68|    3013| 17.2|                97|   68|             7.87|         68|      0.1|  63.537231|  2978599.0|                 18.2|               18.2|                          0.454|      9.5|       0.01|             68|\n",
            "|Afghanistan|2010|Developing|            58.8|            279|           74|   0.01|           79.67936736|         66|    1989| 16.7|               102|   66|              9.2|         66|      0.1|  553.32894|  2883167.0|                 18.4|               18.4|                          0.448|      9.2|       0.01|             66|\n",
            "|Afghanistan|2009|Developing|            58.6|            281|           77|   0.01|           56.76221682|         63|    2861| 16.2|               106|   63|             9.42|         63|      0.1|445.8932979|   284331.0|                 18.6|               18.7|                          0.434|      8.9|       0.01|             63|\n",
            "|Afghanistan|2008|Developing|            58.1|            287|           80|   0.03|           25.87392536|         64|    1599| 15.7|               110|   64|             8.33|         64|      0.1|373.3611163|  2729431.0|                 18.8|               18.9|                          0.433|      8.7|       0.03|             64|\n",
            "|Afghanistan|2007|Developing|            57.5|            295|           82|   0.02|           10.91015598|         63|    1141| 15.2|               113|   63|             6.73|         63|      0.1| 369.835796|2.6616792E7|                 19.0|               19.1|                          0.415|      8.4|       0.02|             63|\n",
            "|Afghanistan|2006|Developing|            57.3|            295|           84|   0.03|           17.17151751|         64|    1990| 14.7|               116|   58|             7.43|         58|      0.1|  272.56377|  2589345.0|                 19.2|               19.3|                          0.405|      8.1|       0.03|             64|\n",
            "|    Albania|2015|Developing|            77.8|             74|            0|    4.6|           364.9752287|         99|       0| 58.0|                 0|   99|              6.0|         99|      0.1| 3954.22783|    28873.0|                  1.2|                1.3|                          0.762|     14.2|        4.6|             99|\n",
            "|    Albania|2014|Developing|            77.5|              8|            0|   4.51|           428.7490668|         98|       0| 57.2|                 1|   98|             5.88|         98|      0.1|4575.763787|   288914.0|                  1.2|                1.3|                          0.761|     14.2|       4.51|             98|\n",
            "|    Albania|2013|Developing|            77.2|             84|            0|   4.76|           430.8769785|         99|       0| 56.5|                 1|   99|             5.66|         99|      0.1| 4414.72314|   289592.0|                  1.3|                1.4|                          0.759|     14.2|       4.76|             99|\n",
            "|    Albania|2012|Developing|            76.9|             86|            0|   5.14|           412.4433563|         99|       9| 55.8|                 1|   99|             5.59|         99|      0.1| 4247.61438|     2941.0|                  1.3|                1.4|                          0.752|     14.2|       5.14|             99|\n",
            "|    Albania|2011|Developing|            76.6|             88|            0|   5.37|              437.0621|         99|      28| 55.1|                 1|   99|             5.71|         99|      0.1| 4437.17868|   295195.0|                  1.4|                1.5|                          0.738|     13.3|       5.37|             99|\n",
            "|    Albania|2010|Developing|            76.2|             91|            1|   5.28|           41.82275719|         99|      10| 54.3|                 1|   99|             5.34|         99|      0.1| 494.358832|   291321.0|                  1.4|                1.5|                          0.725|     12.5|       5.28|             99|\n",
            "|    Albania|2009|Developing|            76.1|             91|            1|   5.79|           348.0559517|         98|       0| 53.5|                 1|   98|             5.79|         98|      0.1|4114.136545|  2927519.0|                  1.5|                1.6|                          0.721|     12.2|       5.79|             98|\n",
            "|    Albania|2008|Developing|            75.3|              1|            1|   5.61|           36.62206845|         99|       0| 52.6|                 1|   99|             5.87|         99|      0.1| 437.539647|  2947314.0|                  1.6|                1.6|                          0.713|     12.0|       5.61|             99|\n",
            "|    Albania|2007|Developing|            75.9|              9|            1|   5.58|           32.24655228|         98|      22| 51.7|                 1|   99|              6.1|         98|      0.1|  363.13685|    29717.0|                  1.6|                1.7|                          0.703|     11.6|       5.58|             98|\n",
            "|    Albania|2006|Developing|            74.2|             99|            1|   5.31|             3.3021542|         98|      68|  5.8|                 1|   97|             5.86|         97|      0.1|    35.1293|  2992547.0|                  1.7|                1.8|                          0.696|     11.4|       5.31|             98|\n",
            "+-----------+----+----------+----------------+---------------+-------------+-------+----------------------+-----------+--------+-----+------------------+-----+-----------------+-----------+---------+-----------+-----------+---------------------+-------------------+-------------------------------+---------+-----------+---------------+\n",
            "only showing top 20 rows\n",
            "\n"
          ]
        }
      ]
    },
    {
      "cell_type": "code",
      "source": [
        "\n",
        "df_ps9.filter((df_ps9['Year'] > 2005) |\n",
        "              (df_ps9['Life expectancy '] > 40)).show()"
      ],
      "metadata": {
        "colab": {
          "base_uri": "https://localhost:8080/"
        },
        "id": "YCkQBvuMueNx",
        "outputId": "db366322-6e6f-4b0a-9a7b-8f73af79fbeb"
      },
      "execution_count": 42,
      "outputs": [
        {
          "output_type": "stream",
          "name": "stdout",
          "text": [
            "+-----------+----+----------+----------------+---------------+-------------+-------+----------------------+-----------+--------+-----+------------------+-----+-----------------+-----------+---------+-----------+-----------+---------------------+-------------------+-------------------------------+---------+-----------+---------------+\n",
            "|  Countries|Year|    Status|Life expectancy |Adult Mortality|infant deaths|Alcohol|percentage expenditure|Hepatitis B|Measles | BMI |under-five deaths |Polio|Total expenditure|Diphtheria | HIV/AIDS|        GDP| Population| thinness  1-19 years| thinness 5-9 years|Income composition of resources|Schooling|Alcohol_new|Hepatitis B_new|\n",
            "+-----------+----+----------+----------------+---------------+-------------+-------+----------------------+-----------+--------+-----+------------------+-----+-----------------+-----------+---------+-----------+-----------+---------------------+-------------------+-------------------------------+---------+-----------+---------------+\n",
            "|Afghanistan|2015|Developing|            65.0|            263|           62|   0.01|           71.27962362|         65|    1154| 19.1|                83|    6|             8.16|         65|      0.1|  584.25921|3.3736494E7|                 17.2|               17.3|                          0.479|     10.1|       0.01|             65|\n",
            "|Afghanistan|2014|Developing|            59.9|            271|           64|   0.01|           73.52358168|         62|     492| 18.6|                86|   58|             8.18|         62|      0.1| 612.696514|   327582.0|                 17.5|               17.5|                          0.476|     10.0|       0.01|             62|\n",
            "|Afghanistan|2013|Developing|            59.9|            268|           66|   0.01|           73.21924272|         64|     430| 18.1|                89|   62|             8.13|         64|      0.1| 631.744976|3.1731688E7|                 17.7|               17.7|                           0.47|      9.9|       0.01|             64|\n",
            "|Afghanistan|2012|Developing|            59.5|            272|           69|   0.01|            78.1842153|         67|    2787| 17.6|                93|   67|             8.52|         67|      0.1|    669.959|  3696958.0|                 17.9|               18.0|                          0.463|      9.8|       0.01|             67|\n",
            "|Afghanistan|2011|Developing|            59.2|            275|           71|   0.01|           7.097108703|         68|    3013| 17.2|                97|   68|             7.87|         68|      0.1|  63.537231|  2978599.0|                 18.2|               18.2|                          0.454|      9.5|       0.01|             68|\n",
            "|Afghanistan|2010|Developing|            58.8|            279|           74|   0.01|           79.67936736|         66|    1989| 16.7|               102|   66|              9.2|         66|      0.1|  553.32894|  2883167.0|                 18.4|               18.4|                          0.448|      9.2|       0.01|             66|\n",
            "|Afghanistan|2009|Developing|            58.6|            281|           77|   0.01|           56.76221682|         63|    2861| 16.2|               106|   63|             9.42|         63|      0.1|445.8932979|   284331.0|                 18.6|               18.7|                          0.434|      8.9|       0.01|             63|\n",
            "|Afghanistan|2008|Developing|            58.1|            287|           80|   0.03|           25.87392536|         64|    1599| 15.7|               110|   64|             8.33|         64|      0.1|373.3611163|  2729431.0|                 18.8|               18.9|                          0.433|      8.7|       0.03|             64|\n",
            "|Afghanistan|2007|Developing|            57.5|            295|           82|   0.02|           10.91015598|         63|    1141| 15.2|               113|   63|             6.73|         63|      0.1| 369.835796|2.6616792E7|                 19.0|               19.1|                          0.415|      8.4|       0.02|             63|\n",
            "|Afghanistan|2006|Developing|            57.3|            295|           84|   0.03|           17.17151751|         64|    1990| 14.7|               116|   58|             7.43|         58|      0.1|  272.56377|  2589345.0|                 19.2|               19.3|                          0.405|      8.1|       0.03|             64|\n",
            "|Afghanistan|2005|Developing|            57.3|            291|           85|   0.02|           1.388647732|         66|    1296| 14.2|               118|   58|              8.7|         58|      0.1| 25.2941299|   257798.0|                 19.3|               19.5|                          0.396|      7.9|       0.02|             66|\n",
            "|Afghanistan|2004|Developing|            57.0|            293|           87|   0.02|           15.29606643|         67|     466| 13.8|               120|    5|             8.79|          5|      0.1|219.1413528|2.4118979E7|                 19.5|               19.7|                          0.381|      6.8|       0.02|             67|\n",
            "|Afghanistan|2003|Developing|            56.7|            295|           87|   0.01|           11.08905273|         65|     798| 13.4|               122|   41|             8.82|         41|      0.1|198.7285436|  2364851.0|                 19.7|               19.9|                          0.373|      6.5|       0.01|             65|\n",
            "|Afghanistan|2002|Developing|            56.2|              3|           88|   0.01|           16.88735091|         64|    2486| 13.0|               122|   36|             7.76|         36|      0.1|  187.84595|2.1979923E7|                 19.9|                2.2|                          0.341|      6.2|       0.01|             64|\n",
            "|Afghanistan|2001|Developing|            55.3|            316|           88|   0.01|            10.5747282|         63|    8762| 12.6|               122|   35|              7.8|         33|      0.1|  117.49698|  2966463.0|                  2.1|                2.4|                           0.34|      5.9|       0.01|             63|\n",
            "|Afghanistan|2000|Developing|            54.8|            321|           88|   0.01|              10.42496|         62|    6532| 12.2|               122|   24|              8.2|         24|      0.1|     114.56|   293756.0|                  2.3|                2.5|                          0.338|      5.5|       0.01|             62|\n",
            "|    Albania|2015|Developing|            77.8|             74|            0|    4.6|           364.9752287|         99|       0| 58.0|                 0|   99|              6.0|         99|      0.1| 3954.22783|    28873.0|                  1.2|                1.3|                          0.762|     14.2|        4.6|             99|\n",
            "|    Albania|2014|Developing|            77.5|              8|            0|   4.51|           428.7490668|         98|       0| 57.2|                 1|   98|             5.88|         98|      0.1|4575.763787|   288914.0|                  1.2|                1.3|                          0.761|     14.2|       4.51|             98|\n",
            "|    Albania|2013|Developing|            77.2|             84|            0|   4.76|           430.8769785|         99|       0| 56.5|                 1|   99|             5.66|         99|      0.1| 4414.72314|   289592.0|                  1.3|                1.4|                          0.759|     14.2|       4.76|             99|\n",
            "|    Albania|2012|Developing|            76.9|             86|            0|   5.14|           412.4433563|         99|       9| 55.8|                 1|   99|             5.59|         99|      0.1| 4247.61438|     2941.0|                  1.3|                1.4|                          0.752|     14.2|       5.14|             99|\n",
            "+-----------+----+----------+----------------+---------------+-------------+-------+----------------------+-----------+--------+-----+------------------+-----+-----------------+-----------+---------+-----------+-----------+---------------------+-------------------+-------------------------------+---------+-----------+---------------+\n",
            "only showing top 20 rows\n",
            "\n"
          ]
        }
      ]
    },
    {
      "cell_type": "code",
      "source": [
        "# inverse condition\n",
        "\n",
        "df_ps9.filter(~(df_ps9['Year'] > 2005)).select(['Countries', 'Year']).show()"
      ],
      "metadata": {
        "colab": {
          "base_uri": "https://localhost:8080/"
        },
        "id": "QulcB5hsueKy",
        "outputId": "51c12c90-74f8-4067-9453-5bedb838f018"
      },
      "execution_count": 44,
      "outputs": [
        {
          "output_type": "stream",
          "name": "stdout",
          "text": [
            "+-----------+----+\n",
            "|  Countries|Year|\n",
            "+-----------+----+\n",
            "|Afghanistan|2005|\n",
            "|Afghanistan|2004|\n",
            "|Afghanistan|2003|\n",
            "|Afghanistan|2002|\n",
            "|Afghanistan|2001|\n",
            "|Afghanistan|2000|\n",
            "|    Albania|2005|\n",
            "|    Albania|2004|\n",
            "|    Albania|2003|\n",
            "|    Albania|2002|\n",
            "|    Albania|2001|\n",
            "|    Albania|2000|\n",
            "|    Algeria|2005|\n",
            "|    Algeria|2004|\n",
            "|    Algeria|2003|\n",
            "|    Algeria|2002|\n",
            "|    Algeria|2001|\n",
            "|    Algeria|2000|\n",
            "|     Angola|2005|\n",
            "|     Angola|2004|\n",
            "+-----------+----+\n",
            "only showing top 20 rows\n",
            "\n"
          ]
        }
      ]
    },
    {
      "cell_type": "markdown",
      "source": [
        "## Group by and Aggregation"
      ],
      "metadata": {
        "id": "jd9N6JWivb3k"
      }
    },
    {
      "cell_type": "code",
      "source": [
        "# Group by and aggregation\n",
        "\n",
        "df_ps9.groupBy('Countries').mean('Life expectancy ').show()"
      ],
      "metadata": {
        "colab": {
          "base_uri": "https://localhost:8080/"
        },
        "id": "9sFns4VQueHh",
        "outputId": "1a69db05-4137-4ed1-95e6-9568dd9beef2"
      },
      "execution_count": 47,
      "outputs": [
        {
          "output_type": "stream",
          "name": "stdout",
          "text": [
            "+--------------------+---------------------+\n",
            "|           Countries|avg(Life expectancy )|\n",
            "+--------------------+---------------------+\n",
            "|       Côte d'Ivoire|              50.3875|\n",
            "|                Chad|              50.3875|\n",
            "|Micronesia (Feder...|                 68.2|\n",
            "|            Paraguay|              73.1125|\n",
            "|               Yemen|   63.862500000000004|\n",
            "|             Senegal|             62.56875|\n",
            "|          Cabo Verde|             72.51875|\n",
            "|              Sweden|             82.51875|\n",
            "|            Kiribati|    65.14999999999999|\n",
            "|   Republic of Korea|              80.4875|\n",
            "|              Guyana|              65.6375|\n",
            "|             Eritrea|              60.6875|\n",
            "|         Philippines|    67.57499999999999|\n",
            "|            Djibouti|             60.75625|\n",
            "|               Tonga|    72.53124999999999|\n",
            "|            Malaysia|    73.75625000000001|\n",
            "|           Singapore|    81.47500000000001|\n",
            "|                Fiji|              68.7125|\n",
            "|              Turkey|              73.9125|\n",
            "|              Malawi|   49.893750000000004|\n",
            "+--------------------+---------------------+\n",
            "only showing top 20 rows\n",
            "\n"
          ]
        }
      ]
    },
    {
      "cell_type": "code",
      "source": [
        "df_ps9.groupBy('Status').mean('Life expectancy ').show()"
      ],
      "metadata": {
        "colab": {
          "base_uri": "https://localhost:8080/"
        },
        "id": "uNYWaPVLueEg",
        "outputId": "cf7c393d-d768-4777-b7e6-a1388b25f001"
      },
      "execution_count": 48,
      "outputs": [
        {
          "output_type": "stream",
          "name": "stdout",
          "text": [
            "+----------+---------------------+\n",
            "|    Status|avg(Life expectancy )|\n",
            "+----------+---------------------+\n",
            "| Developed|    79.19785156249996|\n",
            "|Developing|    66.83483099752688|\n",
            "+----------+---------------------+\n",
            "\n"
          ]
        }
      ]
    },
    {
      "cell_type": "code",
      "source": [
        "df_ps9.groupBy('Status').count().show()"
      ],
      "metadata": {
        "colab": {
          "base_uri": "https://localhost:8080/"
        },
        "id": "RZN-Q46Rw4eT",
        "outputId": "a69c6428-b7d9-4474-9874-810bfc80f914"
      },
      "execution_count": 49,
      "outputs": [
        {
          "output_type": "stream",
          "name": "stdout",
          "text": [
            "+----------+-----+\n",
            "|    Status|count|\n",
            "+----------+-----+\n",
            "| Developed|  512|\n",
            "|Developing| 2426|\n",
            "+----------+-----+\n",
            "\n"
          ]
        }
      ]
    },
    {
      "cell_type": "code",
      "source": [
        "df_ps9.agg(({\"Life expectancy \": \"max\"})).show()"
      ],
      "metadata": {
        "colab": {
          "base_uri": "https://localhost:8080/"
        },
        "id": "1aUymXnhxD9t",
        "outputId": "d0cf6176-83a7-499a-e4b1-1f3e0e509a19"
      },
      "execution_count": 50,
      "outputs": [
        {
          "output_type": "stream",
          "name": "stdout",
          "text": [
            "+---------------------+\n",
            "|max(Life expectancy )|\n",
            "+---------------------+\n",
            "|                 89.0|\n",
            "+---------------------+\n",
            "\n"
          ]
        }
      ]
    },
    {
      "cell_type": "code",
      "source": [
        "# this is giving every countries maximum Life expectancy\n",
        "\n",
        "df_ps9.groupBy('Countries').max('Life expectancy ').show()"
      ],
      "metadata": {
        "colab": {
          "base_uri": "https://localhost:8080/"
        },
        "id": "FGQXFPtPxTs-",
        "outputId": "1bb557d9-cd4b-4112-c802-383bc89325c9"
      },
      "execution_count": 52,
      "outputs": [
        {
          "output_type": "stream",
          "name": "stdout",
          "text": [
            "+--------------------+---------------------+\n",
            "|           Countries|max(Life expectancy )|\n",
            "+--------------------+---------------------+\n",
            "|       Côte d'Ivoire|                 54.0|\n",
            "|                Chad|                 57.0|\n",
            "|Micronesia (Feder...|                 69.4|\n",
            "|            Paraguay|                 79.0|\n",
            "|               Yemen|                 68.0|\n",
            "|             Senegal|                 66.7|\n",
            "|          Cabo Verde|                 77.0|\n",
            "|              Sweden|                 89.0|\n",
            "|            Kiribati|                 66.3|\n",
            "|   Republic of Korea|                 87.0|\n",
            "|              Guyana|                 66.3|\n",
            "|             Eritrea|                 67.0|\n",
            "|         Philippines|                 68.5|\n",
            "|            Djibouti|                 69.0|\n",
            "|               Tonga|                 73.5|\n",
            "|            Malaysia|                 75.0|\n",
            "|           Singapore|                 87.0|\n",
            "|                Fiji|                 69.9|\n",
            "|              Turkey|                 78.0|\n",
            "|              Malawi|                 58.3|\n",
            "+--------------------+---------------------+\n",
            "only showing top 20 rows\n",
            "\n"
          ]
        }
      ]
    },
    {
      "cell_type": "code",
      "source": [
        ""
      ],
      "metadata": {
        "id": "8bGOGzL3xjmF"
      },
      "execution_count": null,
      "outputs": []
    },
    {
      "cell_type": "code",
      "source": [
        ""
      ],
      "metadata": {
        "id": "8fQGSRcGx-BB"
      },
      "execution_count": null,
      "outputs": []
    },
    {
      "cell_type": "code",
      "source": [
        ""
      ],
      "metadata": {
        "id": "jsSBA035x99e"
      },
      "execution_count": null,
      "outputs": []
    },
    {
      "cell_type": "code",
      "source": [
        ""
      ],
      "metadata": {
        "id": "09kM9Fi7x96S"
      },
      "execution_count": null,
      "outputs": []
    }
  ]
}